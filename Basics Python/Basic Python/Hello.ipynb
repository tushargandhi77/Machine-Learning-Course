{
 "cells": [
  {
   "cell_type": "code",
   "execution_count": 3,
   "metadata": {
    "collapsed": true,
    "ExecuteTime": {
     "end_time": "2023-08-08T04:16:06.987637400Z",
     "start_time": "2023-08-08T04:16:06.922152Z"
    }
   },
   "outputs": [
    {
     "name": "stdout",
     "output_type": "stream",
     "text": [
      "Python is Awesome\n",
      "PythonisAwesome\n"
     ]
    }
   ],
   "source": [
    "x = \"Python\"\n",
    "y = \"is\"\n",
    "z = \"Awesome\"\n",
    "print(x,y,z)\n",
    "print(x+y+z)"
   ]
  },
  {
   "cell_type": "code",
   "execution_count": 6,
   "outputs": [
    {
     "name": "stdout",
     "output_type": "stream",
     "text": [
      "Python is Awesorme\n",
      "PythonisAwesorme\n"
     ]
    }
   ],
   "source": [
    "ls = ['Python','is','Awesorme']\n",
    "x,y,z = ls # x,y,z,k gives you error\n",
    "print(x,y,z)\n",
    "print(x+y+z)"
   ],
   "metadata": {
    "collapsed": false,
    "ExecuteTime": {
     "end_time": "2023-08-08T04:17:28.865030600Z",
     "start_time": "2023-08-08T04:17:28.843087800Z"
    }
   }
  },
  {
   "cell_type": "code",
   "execution_count": 11,
   "outputs": [
    {
     "name": "stdout",
     "output_type": "stream",
     "text": [
      "python is nice\n",
      "python is Awesome\n"
     ]
    }
   ],
   "source": [
    "x = \"Awesome\"\n",
    "\n",
    "def myfunc():\n",
    "    x = \"nice\"\n",
    "    print(\"python is \"+x)\n",
    "\n",
    "myfunc()\n",
    "print(\"python is \"+x)"
   ],
   "metadata": {
    "collapsed": false,
    "ExecuteTime": {
     "end_time": "2023-08-08T04:21:04.312168600Z",
     "start_time": "2023-08-08T04:21:04.298459900Z"
    }
   }
  },
  {
   "cell_type": "code",
   "execution_count": 15,
   "outputs": [
    {
     "name": "stdout",
     "output_type": "stream",
     "text": [
      "hello\n",
      "hello\n"
     ]
    }
   ],
   "source": [
    "x = 'hi'\n",
    "def myfunc():\n",
    "    global x\n",
    "    x = \"hello\"\n",
    "    print(x)\n",
    "myfunc()\n",
    "print(x)"
   ],
   "metadata": {
    "collapsed": false,
    "ExecuteTime": {
     "end_time": "2023-08-08T04:22:17.728220Z",
     "start_time": "2023-08-08T04:22:17.707430300Z"
    }
   }
  },
  {
   "cell_type": "markdown",
   "source": [
    "# Data Types"
   ],
   "metadata": {
    "collapsed": false
   }
  },
  {
   "cell_type": "code",
   "execution_count": 16,
   "outputs": [
    {
     "name": "stdout",
     "output_type": "stream",
     "text": [
      "<class 'int'>\n"
     ]
    }
   ],
   "source": [
    "x = 5\n",
    "print(type(x))"
   ],
   "metadata": {
    "collapsed": false,
    "ExecuteTime": {
     "end_time": "2023-08-08T04:25:49.342333300Z",
     "start_time": "2023-08-08T04:25:49.270526300Z"
    }
   }
  },
  {
   "cell_type": "code",
   "execution_count": 17,
   "outputs": [
    {
     "name": "stdout",
     "output_type": "stream",
     "text": [
      "<class 'str'>\n"
     ]
    }
   ],
   "source": [
    "x = 'hello'\n",
    "print(type(x))"
   ],
   "metadata": {
    "collapsed": false,
    "ExecuteTime": {
     "end_time": "2023-08-08T04:26:01.575923Z",
     "start_time": "2023-08-08T04:26:01.569097800Z"
    }
   }
  },
  {
   "cell_type": "code",
   "execution_count": 18,
   "outputs": [
    {
     "name": "stdout",
     "output_type": "stream",
     "text": [
      "<class 'float'>\n"
     ]
    }
   ],
   "source": [
    "x = 29.4\n",
    "print(type(x))"
   ],
   "metadata": {
    "collapsed": false,
    "ExecuteTime": {
     "end_time": "2023-08-08T04:26:14.838471700Z",
     "start_time": "2023-08-08T04:26:14.816129400Z"
    }
   }
  },
  {
   "cell_type": "code",
   "execution_count": 19,
   "outputs": [
    {
     "name": "stdout",
     "output_type": "stream",
     "text": [
      "<class 'list'>\n"
     ]
    }
   ],
   "source": [
    "x = ['heelo','heel']\n",
    "print(type(x))"
   ],
   "metadata": {
    "collapsed": false,
    "ExecuteTime": {
     "end_time": "2023-08-08T04:26:44.664196500Z",
     "start_time": "2023-08-08T04:26:44.633512400Z"
    }
   }
  },
  {
   "cell_type": "code",
   "execution_count": 20,
   "outputs": [
    {
     "name": "stdout",
     "output_type": "stream",
     "text": [
      "<class 'complex'>\n"
     ]
    }
   ],
   "source": [
    "x = 1j\n",
    "print(type(x))"
   ],
   "metadata": {
    "collapsed": false,
    "ExecuteTime": {
     "end_time": "2023-08-08T04:27:03.552851900Z",
     "start_time": "2023-08-08T04:27:03.407914Z"
    }
   }
  },
  {
   "cell_type": "code",
   "execution_count": 21,
   "outputs": [
    {
     "name": "stdout",
     "output_type": "stream",
     "text": [
      "<class 'tuple'>\n"
     ]
    }
   ],
   "source": [
    "x = ('hello','moto')\n",
    "print(type(x))"
   ],
   "metadata": {
    "collapsed": false,
    "ExecuteTime": {
     "end_time": "2023-08-08T04:27:28.911257900Z",
     "start_time": "2023-08-08T04:27:28.769246100Z"
    }
   }
  },
  {
   "cell_type": "code",
   "execution_count": 22,
   "outputs": [
    {
     "name": "stdout",
     "output_type": "stream",
     "text": [
      "<class 'set'>\n"
     ]
    }
   ],
   "source": [
    "x = {'heelo','moto'}\n",
    "print(type(x))"
   ],
   "metadata": {
    "collapsed": false,
    "ExecuteTime": {
     "end_time": "2023-08-08T04:28:15.222386300Z",
     "start_time": "2023-08-08T04:28:15.205358100Z"
    }
   }
  },
  {
   "cell_type": "code",
   "execution_count": 23,
   "outputs": [
    {
     "name": "stdout",
     "output_type": "stream",
     "text": [
      "<class 'dict'>\n"
     ]
    }
   ],
   "source": [
    "x = {\"name\":\"tusar\",\"age\":\"23\"}\n",
    "print(type(x))"
   ],
   "metadata": {
    "collapsed": false,
    "ExecuteTime": {
     "end_time": "2023-08-08T04:29:54.369643400Z",
     "start_time": "2023-08-08T04:29:54.341699Z"
    }
   }
  },
  {
   "cell_type": "code",
   "execution_count": 24,
   "outputs": [
    {
     "name": "stdout",
     "output_type": "stream",
     "text": [
      "<class 'bool'>\n"
     ]
    }
   ],
   "source": [
    "x = True\n",
    "print(type(x))"
   ],
   "metadata": {
    "collapsed": false,
    "ExecuteTime": {
     "end_time": "2023-08-08T04:30:10.731588Z",
     "start_time": "2023-08-08T04:30:10.593347400Z"
    }
   }
  },
  {
   "cell_type": "code",
   "execution_count": 25,
   "outputs": [
    {
     "name": "stdout",
     "output_type": "stream",
     "text": [
      "<class 'bytes'>\n"
     ]
    }
   ],
   "source": [
    "x = b\"heel0o\"\n",
    "print(type(x))"
   ],
   "metadata": {
    "collapsed": false,
    "ExecuteTime": {
     "end_time": "2023-08-08T04:30:35.242224800Z",
     "start_time": "2023-08-08T04:30:35.222604800Z"
    }
   }
  },
  {
   "cell_type": "code",
   "execution_count": 27,
   "outputs": [
    {
     "name": "stdout",
     "output_type": "stream",
     "text": [
      "<class 'range'>\n"
     ]
    }
   ],
   "source": [
    "x = range(4)\n",
    "print(type(x))"
   ],
   "metadata": {
    "collapsed": false,
    "ExecuteTime": {
     "end_time": "2023-08-08T04:30:53.221921800Z",
     "start_time": "2023-08-08T04:30:53.209900800Z"
    }
   }
  },
  {
   "cell_type": "code",
   "execution_count": 28,
   "outputs": [
    {
     "name": "stdout",
     "output_type": "stream",
     "text": [
      "<class 'NoneType'>\n"
     ]
    }
   ],
   "source": [
    "x = None\n",
    "print(type(x))"
   ],
   "metadata": {
    "collapsed": false,
    "ExecuteTime": {
     "end_time": "2023-08-08T04:31:09.084333500Z",
     "start_time": "2023-08-08T04:31:09.048894600Z"
    }
   }
  },
  {
   "cell_type": "code",
   "execution_count": 3,
   "outputs": [
    {
     "ename": "TypeError",
     "evalue": "int() argument must be a string, a bytes-like object or a real number, not 'complex'",
     "output_type": "error",
     "traceback": [
      "\u001B[1;31m---------------------------------------------------------------------------\u001B[0m",
      "\u001B[1;31mTypeError\u001B[0m                                 Traceback (most recent call last)",
      "Cell \u001B[1;32mIn[3], line 7\u001B[0m\n\u001B[0;32m      5\u001B[0m x \u001B[38;5;241m=\u001B[39m \u001B[38;5;28mcomplex\u001B[39m(x)\n\u001B[0;32m      6\u001B[0m y \u001B[38;5;241m=\u001B[39m \u001B[38;5;28mint\u001B[39m(y)\n\u001B[1;32m----> 7\u001B[0m z \u001B[38;5;241m=\u001B[39m \u001B[38;5;28;43mint\u001B[39;49m\u001B[43m(\u001B[49m\u001B[43mz\u001B[49m\u001B[43m)\u001B[49m\n\u001B[0;32m      9\u001B[0m \u001B[38;5;28mprint\u001B[39m(x)\n\u001B[0;32m     10\u001B[0m \u001B[38;5;28mprint\u001B[39m(y)\n",
      "\u001B[1;31mTypeError\u001B[0m: int() argument must be a string, a bytes-like object or a real number, not 'complex'"
     ]
    }
   ],
   "source": [
    "x = 1\n",
    "y = 12.434\n",
    "z = 3j\n",
    "\n",
    "x = complex(x)\n",
    "y = int(y)\n",
    "\n",
    "print(x)\n",
    "print(y)\n",
    "print(z)"
   ],
   "metadata": {
    "collapsed": false,
    "ExecuteTime": {
     "end_time": "2023-08-08T07:11:03.168858200Z",
     "start_time": "2023-08-08T07:11:03.115546400Z"
    }
   }
  },
  {
   "cell_type": "code",
   "execution_count": 8,
   "outputs": [
    {
     "name": "stdout",
     "output_type": "stream",
     "text": [
      "13\n"
     ]
    }
   ],
   "source": [
    "import random\n",
    "\n",
    "x = random.randrange(1,100)\n",
    "print(x)"
   ],
   "metadata": {
    "collapsed": false,
    "ExecuteTime": {
     "end_time": "2023-08-08T07:12:26.375481100Z",
     "start_time": "2023-08-08T07:12:26.363512900Z"
    }
   }
  },
  {
   "cell_type": "code",
   "execution_count": 9,
   "outputs": [
    {
     "name": "stdout",
     "output_type": "stream",
     "text": [
      "2\n",
      "3\n",
      "5\n"
     ]
    }
   ],
   "source": [
    "x = int(2.32)\n",
    "y = int(\"3\")\n",
    "z = int('5')\n",
    "print(x)\n",
    "print(y)\n",
    "print(z)"
   ],
   "metadata": {
    "collapsed": false,
    "ExecuteTime": {
     "end_time": "2023-08-08T07:15:00.970759Z",
     "start_time": "2023-08-08T07:15:00.930613900Z"
    }
   }
  },
  {
   "cell_type": "code",
   "execution_count": 10,
   "outputs": [
    {
     "name": "stdout",
     "output_type": "stream",
     "text": [
      "1.33\n",
      "3.34\n",
      "13.0\n"
     ]
    }
   ],
   "source": [
    "x = float(1.33)\n",
    "y = float('3.34')\n",
    "z = float(13)\n",
    "print(x)\n",
    "print(y)\n",
    "print(z)"
   ],
   "metadata": {
    "collapsed": false,
    "ExecuteTime": {
     "end_time": "2023-08-08T07:15:44.222598400Z",
     "start_time": "2023-08-08T07:15:44.215408800Z"
    }
   }
  },
  {
   "cell_type": "code",
   "execution_count": 11,
   "outputs": [
    {
     "name": "stdout",
     "output_type": "stream",
     "text": [
      "3\n",
      "343\n",
      "4dfd\n"
     ]
    }
   ],
   "source": [
    "x = str(3)\n",
    "y = str(343)\n",
    "z = str('4dfd')\n",
    "print(x)\n",
    "print(y)\n",
    "print(z)"
   ],
   "metadata": {
    "collapsed": false,
    "ExecuteTime": {
     "end_time": "2023-08-08T07:16:14.078995300Z",
     "start_time": "2023-08-08T07:16:14.063528500Z"
    }
   }
  },
  {
   "cell_type": "markdown",
   "source": [
    "# Strings\n"
   ],
   "metadata": {
    "collapsed": false
   }
  },
  {
   "cell_type": "code",
   "execution_count": 12,
   "outputs": [
    {
     "name": "stdout",
     "output_type": "stream",
     "text": [
      "heelo\n"
     ]
    }
   ],
   "source": [
    "a = \"heelo\"\n",
    "print(a)"
   ],
   "metadata": {
    "collapsed": false,
    "ExecuteTime": {
     "end_time": "2023-08-08T07:17:33.365126300Z",
     "start_time": "2023-08-08T07:17:33.355154800Z"
    }
   }
  },
  {
   "cell_type": "code",
   "execution_count": 13,
   "outputs": [
    {
     "name": "stdout",
     "output_type": "stream",
     "text": [
      "Lorem ipsum dolor sit amet,\n",
      "consectetur adipiscing elit,\n",
      "sed do eiusmod tempor incididunt\n",
      "ut labore et dolore magna aliqua.\n"
     ]
    }
   ],
   "source": [
    "a = \"\"\"Lorem ipsum dolor sit amet,\n",
    "consectetur adipiscing elit,\n",
    "sed do eiusmod tempor incididunt\n",
    "ut labore et dolore magna aliqua.\"\"\"\n",
    "print(a)"
   ],
   "metadata": {
    "collapsed": false,
    "ExecuteTime": {
     "end_time": "2023-08-08T07:18:30.227066400Z",
     "start_time": "2023-08-08T07:18:30.221082700Z"
    }
   }
  },
  {
   "cell_type": "code",
   "execution_count": 14,
   "outputs": [
    {
     "name": "stdout",
     "output_type": "stream",
     "text": [
      "e\n"
     ]
    }
   ],
   "source": [
    "a  = \"Hello i am Python\"\n",
    "print(a[1])"
   ],
   "metadata": {
    "collapsed": false,
    "ExecuteTime": {
     "end_time": "2023-08-08T07:19:21.464542500Z",
     "start_time": "2023-08-08T07:19:21.448323900Z"
    }
   }
  },
  {
   "cell_type": "code",
   "execution_count": 15,
   "outputs": [
    {
     "name": "stdout",
     "output_type": "stream",
     "text": [
      "B\n",
      "a\n",
      "n\n",
      "a\n",
      "n\n",
      "a\n"
     ]
    }
   ],
   "source": [
    "for x in \"Banana\":\n",
    "    print(x)"
   ],
   "metadata": {
    "collapsed": false,
    "ExecuteTime": {
     "end_time": "2023-08-08T07:19:50.521316100Z",
     "start_time": "2023-08-08T07:19:50.514334700Z"
    }
   }
  },
  {
   "cell_type": "code",
   "execution_count": 16,
   "outputs": [
    {
     "name": "stdout",
     "output_type": "stream",
     "text": [
      "6\n"
     ]
    }
   ],
   "source": [
    "a = \"Length\"\n",
    "print(len(a))"
   ],
   "metadata": {
    "collapsed": false,
    "ExecuteTime": {
     "end_time": "2023-08-08T07:20:13.037692300Z",
     "start_time": "2023-08-08T07:20:13.014752300Z"
    }
   }
  },
  {
   "cell_type": "code",
   "execution_count": 17,
   "outputs": [
    {
     "name": "stdout",
     "output_type": "stream",
     "text": [
      "True\n"
     ]
    }
   ],
   "source": [
    "txt = \"The best things in life are free!\"\n",
    "print(\"free\" in txt)"
   ],
   "metadata": {
    "collapsed": false,
    "ExecuteTime": {
     "end_time": "2023-08-08T07:21:10.882872500Z",
     "start_time": "2023-08-08T07:21:10.867878600Z"
    }
   }
  },
  {
   "cell_type": "code",
   "execution_count": 18,
   "outputs": [
    {
     "name": "stdout",
     "output_type": "stream",
     "text": [
      "Yess\n"
     ]
    }
   ],
   "source": [
    "txt = \"The best things in life are free!\"\n",
    "if \"free\" in txt:\n",
    "    print(\"Yess\")"
   ],
   "metadata": {
    "collapsed": false,
    "ExecuteTime": {
     "end_time": "2023-08-08T07:21:47.066342200Z",
     "start_time": "2023-08-08T07:21:47.059339500Z"
    }
   }
  },
  {
   "cell_type": "code",
   "execution_count": 19,
   "outputs": [
    {
     "name": "stdout",
     "output_type": "stream",
     "text": [
      "True\n"
     ]
    }
   ],
   "source": [
    "txt = \"The best things in life are free!\"\n",
    "print(\"heelo\" not in txt)"
   ],
   "metadata": {
    "collapsed": false,
    "ExecuteTime": {
     "end_time": "2023-08-08T07:22:24.334149Z",
     "start_time": "2023-08-08T07:22:24.298596500Z"
    }
   }
  },
  {
   "cell_type": "code",
   "execution_count": 20,
   "outputs": [
    {
     "name": "stdout",
     "output_type": "stream",
     "text": [
      "NOt\n"
     ]
    }
   ],
   "source": [
    "txt = \"The best things in life are free!\"\n",
    "if \"hello\" not in txt:\n",
    "    print(\"NOt\")"
   ],
   "metadata": {
    "collapsed": false,
    "ExecuteTime": {
     "end_time": "2023-08-08T07:22:46.875678900Z",
     "start_time": "2023-08-08T07:22:46.841105400Z"
    }
   }
  },
  {
   "cell_type": "code",
   "execution_count": 21,
   "outputs": [
    {
     "name": "stdout",
     "output_type": "stream",
     "text": [
      "llo\n"
     ]
    }
   ],
   "source": [
    "b = \"Hello, World!\"\n",
    "print(b[2:5])"
   ],
   "metadata": {
    "collapsed": false,
    "ExecuteTime": {
     "end_time": "2023-08-08T07:24:28.775680500Z",
     "start_time": "2023-08-08T07:24:28.769617400Z"
    }
   }
  },
  {
   "cell_type": "code",
   "execution_count": 22,
   "outputs": [
    {
     "name": "stdout",
     "output_type": "stream",
     "text": [
      "Hello\n"
     ]
    }
   ],
   "source": [
    "b = \"Hello, World!\"\n",
    "print(b[:5])"
   ],
   "metadata": {
    "collapsed": false,
    "ExecuteTime": {
     "end_time": "2023-08-08T07:25:06.606060900Z",
     "start_time": "2023-08-08T07:25:06.560969700Z"
    }
   }
  },
  {
   "cell_type": "code",
   "execution_count": 24,
   "outputs": [
    {
     "name": "stdout",
     "output_type": "stream",
     "text": [
      " World!\n"
     ]
    }
   ],
   "source": [
    "b = \"Hello, World!\"\n",
    "print(b[6:])"
   ],
   "metadata": {
    "collapsed": false,
    "ExecuteTime": {
     "end_time": "2023-08-08T07:25:27.742752500Z",
     "start_time": "2023-08-08T07:25:27.718648400Z"
    }
   }
  },
  {
   "cell_type": "code",
   "execution_count": 26,
   "outputs": [
    {
     "name": "stdout",
     "output_type": "stream",
     "text": [
      "orl\n"
     ]
    }
   ],
   "source": [
    "b = \"Hello, World!\"\n",
    "print(b[-5:-2])"
   ],
   "metadata": {
    "collapsed": false,
    "ExecuteTime": {
     "end_time": "2023-08-08T07:26:27.375835Z",
     "start_time": "2023-08-08T07:26:27.351524800Z"
    }
   }
  },
  {
   "cell_type": "code",
   "execution_count": 27,
   "outputs": [
    {
     "name": "stdout",
     "output_type": "stream",
     "text": [
      "HELLO, WORLD!\n"
     ]
    }
   ],
   "source": [
    "a = \"Hello, World!\"\n",
    "print(a.upper())"
   ],
   "metadata": {
    "collapsed": false,
    "ExecuteTime": {
     "end_time": "2023-08-08T07:32:27.525217600Z",
     "start_time": "2023-08-08T07:32:27.519232500Z"
    }
   }
  },
  {
   "cell_type": "code",
   "execution_count": 28,
   "outputs": [
    {
     "name": "stdout",
     "output_type": "stream",
     "text": [
      "hello, world!\n"
     ]
    }
   ],
   "source": [
    "a = \"Hello, World!\"\n",
    "print(a.lower())"
   ],
   "metadata": {
    "collapsed": false,
    "ExecuteTime": {
     "end_time": "2023-08-08T07:32:37.628678900Z",
     "start_time": "2023-08-08T07:32:37.593784600Z"
    }
   }
  },
  {
   "cell_type": "code",
   "execution_count": 30,
   "outputs": [
    {
     "name": "stdout",
     "output_type": "stream",
     "text": [
      "Hello, World!\n"
     ]
    }
   ],
   "source": [
    "a =  \" Hello, World! \"\n",
    "print(a.strip())"
   ],
   "metadata": {
    "collapsed": false,
    "ExecuteTime": {
     "end_time": "2023-08-08T07:33:43.317877Z",
     "start_time": "2023-08-08T07:33:43.302915600Z"
    }
   }
  },
  {
   "cell_type": "code",
   "execution_count": 31,
   "outputs": [
    {
     "name": "stdout",
     "output_type": "stream",
     "text": [
      "Hkllo, World!\n"
     ]
    }
   ],
   "source": [
    "a = \"Hello, World!\"\n",
    "print(a.replace('e','k'))"
   ],
   "metadata": {
    "collapsed": false,
    "ExecuteTime": {
     "end_time": "2023-08-08T07:34:03.623132300Z",
     "start_time": "2023-08-08T07:34:03.594093300Z"
    }
   }
  },
  {
   "cell_type": "code",
   "execution_count": 33,
   "outputs": [
    {
     "name": "stdout",
     "output_type": "stream",
     "text": [
      " World!\n",
      "['Hello', ' World!']\n"
     ]
    }
   ],
   "source": [
    "a = \"Hello, World!\"\n",
    "b = a.split(\",\")\n",
    "print(b[1])\n",
    "print(a.split(\",\"))"
   ],
   "metadata": {
    "collapsed": false,
    "ExecuteTime": {
     "end_time": "2023-08-08T07:34:58.945684300Z",
     "start_time": "2023-08-08T07:34:58.917730700Z"
    }
   }
  },
  {
   "cell_type": "code",
   "execution_count": 34,
   "outputs": [
    {
     "name": "stdout",
     "output_type": "stream",
     "text": [
      "helloworld\n"
     ]
    }
   ],
   "source": [
    "a = \"hello\"\n",
    "b = \"world\"\n",
    "print(a+b)"
   ],
   "metadata": {
    "collapsed": false,
    "ExecuteTime": {
     "end_time": "2023-08-08T07:35:49.385845400Z",
     "start_time": "2023-08-08T07:35:49.332023Z"
    }
   }
  },
  {
   "cell_type": "code",
   "execution_count": 35,
   "outputs": [
    {
     "name": "stdout",
     "output_type": "stream",
     "text": [
      "hello world\n"
     ]
    }
   ],
   "source": [
    "a = \"hello\"\n",
    "b = \"world\"\n",
    "print(a+\" \"+b)"
   ],
   "metadata": {
    "collapsed": false,
    "ExecuteTime": {
     "end_time": "2023-08-08T07:36:05.877254900Z",
     "start_time": "2023-08-08T07:36:05.834369500Z"
    }
   }
  },
  {
   "cell_type": "code",
   "execution_count": 36,
   "outputs": [
    {
     "ename": "TypeError",
     "evalue": "can only concatenate str (not \"int\") to str",
     "output_type": "error",
     "traceback": [
      "\u001B[1;31m---------------------------------------------------------------------------\u001B[0m",
      "\u001B[1;31mTypeError\u001B[0m                                 Traceback (most recent call last)",
      "Cell \u001B[1;32mIn[36], line 2\u001B[0m\n\u001B[0;32m      1\u001B[0m age \u001B[38;5;241m=\u001B[39m \u001B[38;5;241m46\u001B[39m\n\u001B[1;32m----> 2\u001B[0m txt \u001B[38;5;241m=\u001B[39m \u001B[38;5;124;43m\"\u001B[39;49m\u001B[38;5;124;43mMy name is John, I am \u001B[39;49m\u001B[38;5;124;43m\"\u001B[39;49m\u001B[43m \u001B[49m\u001B[38;5;241;43m+\u001B[39;49m\u001B[43m \u001B[49m\u001B[43mage\u001B[49m\n\u001B[0;32m      3\u001B[0m \u001B[38;5;28mprint\u001B[39m(txt)\n",
      "\u001B[1;31mTypeError\u001B[0m: can only concatenate str (not \"int\") to str"
     ]
    }
   ],
   "source": [
    "age = 46\n",
    "txt = \"My name is John, I am \" + age # Cannot add directly number in the string\n",
    "print(txt)"
   ],
   "metadata": {
    "collapsed": false,
    "ExecuteTime": {
     "end_time": "2023-08-08T07:38:54.461620100Z",
     "start_time": "2023-08-08T07:38:54.340985400Z"
    }
   }
  },
  {
   "cell_type": "code",
   "execution_count": 39,
   "outputs": [
    {
     "name": "stdout",
     "output_type": "stream",
     "text": [
      "My name is John, I am 23\n"
     ]
    }
   ],
   "source": [
    "age = 23\n",
    "txt = \"My name is John, I am {}\"\n",
    "print(txt.format(age))"
   ],
   "metadata": {
    "collapsed": false,
    "ExecuteTime": {
     "end_time": "2023-08-08T07:39:46.102907900Z",
     "start_time": "2023-08-08T07:39:46.071771200Z"
    }
   }
  },
  {
   "cell_type": "code",
   "execution_count": 40,
   "outputs": [
    {
     "name": "stdout",
     "output_type": "stream",
     "text": [
      "I want to pay 49.95 dollars for 3 pieces of item 567.\n"
     ]
    }
   ],
   "source": [
    "quantity = 3\n",
    "itemno = 567\n",
    "price = 49.95\n",
    "myorder = \"I want to pay {2} dollars for {0} pieces of item {1}.\"\n",
    "print(myorder.format(quantity, itemno, price))"
   ],
   "metadata": {
    "collapsed": false,
    "ExecuteTime": {
     "end_time": "2023-08-08T07:40:39.844573200Z",
     "start_time": "2023-08-08T07:40:39.800543300Z"
    }
   }
  },
  {
   "cell_type": "code",
   "execution_count": 41,
   "outputs": [
    {
     "name": "stdout",
     "output_type": "stream",
     "text": [
      "heelo i am \"Tushar\"\n"
     ]
    }
   ],
   "source": [
    "txt = \"heelo i am \\\"Tushar\\\"\"\n",
    "print(txt)"
   ],
   "metadata": {
    "collapsed": false,
    "ExecuteTime": {
     "end_time": "2023-08-08T07:42:32.106648300Z",
     "start_time": "2023-08-08T07:42:32.024978500Z"
    }
   }
  },
  {
   "cell_type": "code",
   "execution_count": 42,
   "outputs": [
    {
     "name": "stdout",
     "output_type": "stream",
     "text": [
      "Hello\n"
     ]
    }
   ],
   "source": [
    "a = \"hello\"\n",
    "print(a.capitalize())"
   ],
   "metadata": {
    "collapsed": false,
    "ExecuteTime": {
     "end_time": "2023-08-08T07:43:32.847231400Z",
     "start_time": "2023-08-08T07:43:32.756471400Z"
    }
   }
  },
  {
   "cell_type": "code",
   "execution_count": 43,
   "outputs": [
    {
     "name": "stdout",
     "output_type": "stream",
     "text": [
      "hello\n"
     ]
    }
   ],
   "source": [
    "a = \"HELLo\"\n",
    "print(a.casefold())"
   ],
   "metadata": {
    "collapsed": false,
    "ExecuteTime": {
     "end_time": "2023-08-08T07:44:07.161741900Z",
     "start_time": "2023-08-08T07:44:07.027093900Z"
    }
   }
  },
  {
   "cell_type": "code",
   "execution_count": 46,
   "outputs": [
    {
     "name": "stdout",
     "output_type": "stream",
     "text": [
      "   Hello   \n"
     ]
    }
   ],
   "source": [
    "a = \"Hello\"\n",
    "print(a.center(11))"
   ],
   "metadata": {
    "collapsed": false,
    "ExecuteTime": {
     "end_time": "2023-08-08T07:45:01.936203700Z",
     "start_time": "2023-08-08T07:45:01.885739200Z"
    }
   }
  },
  {
   "cell_type": "code",
   "execution_count": 51,
   "outputs": [
    {
     "name": "stdout",
     "output_type": "stream",
     "text": [
      "1\n"
     ]
    }
   ],
   "source": [
    "a = \"hello\"\n",
    "print(a.count('o'))"
   ],
   "metadata": {
    "collapsed": false,
    "ExecuteTime": {
     "end_time": "2023-08-08T07:46:21.447565Z",
     "start_time": "2023-08-08T07:46:21.426272Z"
    }
   }
  },
  {
   "cell_type": "code",
   "execution_count": 52,
   "outputs": [
    {
     "name": "stdout",
     "output_type": "stream",
     "text": [
      "b'Hello'\n"
     ]
    }
   ],
   "source": [
    "a = \"Hello\"\n",
    "print(a.encode())"
   ],
   "metadata": {
    "collapsed": false,
    "ExecuteTime": {
     "end_time": "2023-08-08T07:46:45.457511300Z",
     "start_time": "2023-08-08T07:46:45.426592900Z"
    }
   }
  },
  {
   "cell_type": "code",
   "execution_count": 53,
   "outputs": [
    {
     "name": "stdout",
     "output_type": "stream",
     "text": [
      "True\n"
     ]
    }
   ],
   "source": [
    "a = \"Hello\"\n",
    "print(a.endswith('o'))"
   ],
   "metadata": {
    "collapsed": false,
    "ExecuteTime": {
     "end_time": "2023-08-08T07:47:22.472106400Z",
     "start_time": "2023-08-08T07:47:22.433379800Z"
    }
   }
  },
  {
   "cell_type": "code",
   "execution_count": 55,
   "outputs": [
    {
     "name": "stdout",
     "output_type": "stream",
     "text": [
      "True\n"
     ]
    }
   ],
   "source": [
    "a = \"hello\"\n",
    "print(a.startswith('h'))"
   ],
   "metadata": {
    "collapsed": false,
    "ExecuteTime": {
     "end_time": "2023-08-08T07:47:43.710149300Z",
     "start_time": "2023-08-08T07:47:43.687211Z"
    }
   }
  },
  {
   "cell_type": "code",
   "execution_count": 61,
   "outputs": [
    {
     "name": "stdout",
     "output_type": "stream",
     "text": [
      "2\n"
     ]
    }
   ],
   "source": [
    "a = \"hello\"\n",
    "print(a.find('l'))"
   ],
   "metadata": {
    "collapsed": false,
    "ExecuteTime": {
     "end_time": "2023-08-08T07:48:50.382331300Z",
     "start_time": "2023-08-08T07:48:50.360322900Z"
    }
   }
  },
  {
   "cell_type": "code",
   "execution_count": 62,
   "outputs": [
    {
     "name": "stdout",
     "output_type": "stream",
     "text": [
      "3\n"
     ]
    }
   ],
   "source": [
    "a = \"hello\"\n",
    "print(a.rfind('l'))"
   ],
   "metadata": {
    "collapsed": false,
    "ExecuteTime": {
     "end_time": "2023-08-08T07:49:00.775776400Z",
     "start_time": "2023-08-08T07:49:00.730893800Z"
    }
   }
  },
  {
   "cell_type": "code",
   "execution_count": 63,
   "outputs": [
    {
     "name": "stdout",
     "output_type": "stream",
     "text": [
      "True\n"
     ]
    }
   ],
   "source": [
    "a = '21343'\n",
    "print(a.isdigit())"
   ],
   "metadata": {
    "collapsed": false,
    "ExecuteTime": {
     "end_time": "2023-08-08T07:50:00.763843900Z",
     "start_time": "2023-08-08T07:50:00.658018200Z"
    }
   }
  },
  {
   "cell_type": "code",
   "execution_count": 64,
   "outputs": [
    {
     "name": "stdout",
     "output_type": "stream",
     "text": [
      "False\n"
     ]
    }
   ],
   "source": [
    "a = \"HELLO\"\n",
    "print(a.islower())"
   ],
   "metadata": {
    "collapsed": false,
    "ExecuteTime": {
     "end_time": "2023-08-08T07:50:16.923066300Z",
     "start_time": "2023-08-08T07:50:16.867370800Z"
    }
   }
  },
  {
   "cell_type": "code",
   "execution_count": 66,
   "outputs": [
    {
     "name": "stdout",
     "output_type": "stream",
     "text": [
      "False\n"
     ]
    }
   ],
   "source": [
    "a = \"Hello\"\n",
    "print(a.isupper())"
   ],
   "metadata": {
    "collapsed": false,
    "ExecuteTime": {
     "end_time": "2023-08-08T07:50:39.914391900Z",
     "start_time": "2023-08-08T07:50:39.864729100Z"
    }
   }
  },
  {
   "cell_type": "code",
   "execution_count": 67,
   "outputs": [
    {
     "name": "stdout",
     "output_type": "stream",
     "text": [
      "False\n"
     ]
    }
   ],
   "source": [
    "a = \"Hello world\"\n",
    "print(a.isspace())"
   ],
   "metadata": {
    "collapsed": false,
    "ExecuteTime": {
     "end_time": "2023-08-08T07:51:11.583098300Z",
     "start_time": "2023-08-08T07:51:11.527276300Z"
    }
   }
  },
  {
   "cell_type": "code",
   "execution_count": 69,
   "outputs": [
    {
     "name": "stdout",
     "output_type": "stream",
     "text": [
      "False\n"
     ]
    }
   ],
   "source": [
    "a = \"HELLO\"\n",
    "print(a.istitle())"
   ],
   "metadata": {
    "collapsed": false,
    "ExecuteTime": {
     "end_time": "2023-08-08T07:54:58.512659200Z",
     "start_time": "2023-08-08T07:54:58.501627900Z"
    }
   }
  },
  {
   "cell_type": "markdown",
   "source": [
    "# Booleans"
   ],
   "metadata": {
    "collapsed": false
   }
  },
  {
   "cell_type": "code",
   "execution_count": 1,
   "outputs": [
    {
     "name": "stdout",
     "output_type": "stream",
     "text": [
      "True\n"
     ]
    }
   ],
   "source": [
    "print(10 > 9)"
   ],
   "metadata": {
    "collapsed": false,
    "ExecuteTime": {
     "end_time": "2023-08-09T13:27:08.997604500Z",
     "start_time": "2023-08-09T13:27:08.939142200Z"
    }
   }
  },
  {
   "cell_type": "code",
   "execution_count": 3,
   "outputs": [
    {
     "name": "stdout",
     "output_type": "stream",
     "text": [
      "False\n"
     ]
    }
   ],
   "source": [
    "print(10 == 9)"
   ],
   "metadata": {
    "collapsed": false,
    "ExecuteTime": {
     "end_time": "2023-08-09T13:27:22.960914700Z",
     "start_time": "2023-08-09T13:27:22.897086400Z"
    }
   }
  },
  {
   "cell_type": "code",
   "execution_count": 4,
   "outputs": [
    {
     "name": "stdout",
     "output_type": "stream",
     "text": [
      "False\n"
     ]
    }
   ],
   "source": [
    "print(10 < 9)"
   ],
   "metadata": {
    "collapsed": false,
    "ExecuteTime": {
     "end_time": "2023-08-09T13:27:31.733079600Z",
     "start_time": "2023-08-09T13:27:31.636337800Z"
    }
   }
  },
  {
   "cell_type": "code",
   "execution_count": 5,
   "outputs": [
    {
     "name": "stdout",
     "output_type": "stream",
     "text": [
      "b is greater than a\n"
     ]
    }
   ],
   "source": [
    "a = 23\n",
    "b = 45\n",
    "if a>b:\n",
    "    print(\"a is greater than b\")\n",
    "else:\n",
    "    print(\"b is greater than a\")"
   ],
   "metadata": {
    "collapsed": false,
    "ExecuteTime": {
     "end_time": "2023-08-09T13:28:08.690557300Z",
     "start_time": "2023-08-09T13:28:08.638584500Z"
    }
   }
  },
  {
   "cell_type": "code",
   "execution_count": 8,
   "outputs": [
    {
     "name": "stdout",
     "output_type": "stream",
     "text": [
      "True\n"
     ]
    }
   ],
   "source": [
    "print(bool(\"hello world\"))"
   ],
   "metadata": {
    "collapsed": false,
    "ExecuteTime": {
     "end_time": "2023-08-09T13:29:45.881047200Z",
     "start_time": "2023-08-09T13:29:45.839224100Z"
    }
   }
  },
  {
   "cell_type": "code",
   "execution_count": 9,
   "outputs": [
    {
     "name": "stdout",
     "output_type": "stream",
     "text": [
      "True\n"
     ]
    }
   ],
   "source": [
    "print(bool(23))"
   ],
   "metadata": {
    "collapsed": false,
    "ExecuteTime": {
     "end_time": "2023-08-09T13:30:06.866116100Z",
     "start_time": "2023-08-09T13:30:06.808755300Z"
    }
   }
  },
  {
   "cell_type": "markdown",
   "source": [
    "# Most Values are True\n",
    "Almost any value is evaluated to True if it has some sort of content.\n",
    "\n",
    "Any string is True, except empty strings.\n",
    "\n",
    "Any number is True, except 0.\n",
    "\n",
    "Any list, tuple, set, and dictionary are True, except empty ones."
   ],
   "metadata": {
    "collapsed": false
   }
  },
  {
   "cell_type": "code",
   "execution_count": 14,
   "outputs": [
    {
     "name": "stdout",
     "output_type": "stream",
     "text": [
      "False\n"
     ]
    }
   ],
   "source": [
    "print(bool(0))"
   ],
   "metadata": {
    "collapsed": false,
    "ExecuteTime": {
     "end_time": "2023-08-09T13:32:31.646495100Z",
     "start_time": "2023-08-09T13:32:31.617527100Z"
    }
   }
  },
  {
   "cell_type": "code",
   "execution_count": 15,
   "outputs": [
    {
     "name": "stdout",
     "output_type": "stream",
     "text": [
      "False\n"
     ]
    }
   ],
   "source": [
    "print(bool(\"\"))"
   ],
   "metadata": {
    "collapsed": false,
    "ExecuteTime": {
     "end_time": "2023-08-09T13:33:08.867459600Z",
     "start_time": "2023-08-09T13:33:08.824573600Z"
    }
   }
  },
  {
   "cell_type": "code",
   "execution_count": 18,
   "outputs": [
    {
     "name": "stdout",
     "output_type": "stream",
     "text": [
      "False\n",
      "False\n",
      "False\n"
     ]
    }
   ],
   "source": [
    "print(bool(()))\n",
    "print(bool({}))\n",
    "print(bool([]))"
   ],
   "metadata": {
    "collapsed": false,
    "ExecuteTime": {
     "end_time": "2023-08-09T13:33:36.562513800Z",
     "start_time": "2023-08-09T13:33:36.534369200Z"
    }
   }
  },
  {
   "cell_type": "code",
   "execution_count": 19,
   "outputs": [
    {
     "name": "stdout",
     "output_type": "stream",
     "text": [
      "True\n"
     ]
    }
   ],
   "source": [
    "def myfunc():\n",
    "    return True\n",
    "\n",
    "print(myfunc())"
   ],
   "metadata": {
    "collapsed": false,
    "ExecuteTime": {
     "end_time": "2023-08-09T13:34:54.646114800Z",
     "start_time": "2023-08-09T13:34:54.582444800Z"
    }
   }
  },
  {
   "cell_type": "code",
   "execution_count": 20,
   "outputs": [
    {
     "name": "stdout",
     "output_type": "stream",
     "text": [
      "Yes\n"
     ]
    }
   ],
   "source": [
    "def myfunc():\n",
    "    return True\n",
    "if myfunc():\n",
    "    print(\"Yes\")\n",
    "else:\n",
    "    print(\"No\")"
   ],
   "metadata": {
    "collapsed": false,
    "ExecuteTime": {
     "end_time": "2023-08-09T13:35:38.094394900Z",
     "start_time": "2023-08-09T13:35:38.047489800Z"
    }
   }
  },
  {
   "cell_type": "code",
   "execution_count": 22,
   "outputs": [
    {
     "name": "stdout",
     "output_type": "stream",
     "text": [
      "True\n",
      "False\n"
     ]
    }
   ],
   "source": [
    "x = 200\n",
    "print(isinstance(x,int))\n",
    "print(isinstance(x,float))"
   ],
   "metadata": {
    "collapsed": false,
    "ExecuteTime": {
     "end_time": "2023-08-09T13:36:25.825078600Z",
     "start_time": "2023-08-09T13:36:25.787083500Z"
    }
   }
  },
  {
   "cell_type": "markdown",
   "source": [
    "# Operators"
   ],
   "metadata": {
    "collapsed": false
   }
  },
  {
   "cell_type": "code",
   "execution_count": 23,
   "outputs": [
    {
     "name": "stdout",
     "output_type": "stream",
     "text": [
      "1.8\n"
     ]
    }
   ],
   "source": [
    "print(9/5)"
   ],
   "metadata": {
    "collapsed": false,
    "ExecuteTime": {
     "end_time": "2023-08-09T13:41:19.652832600Z",
     "start_time": "2023-08-09T13:41:19.637840Z"
    }
   }
  },
  {
   "cell_type": "code",
   "execution_count": 24,
   "outputs": [
    {
     "name": "stdout",
     "output_type": "stream",
     "text": [
      "1\n"
     ]
    }
   ],
   "source": [
    "print(9//5)"
   ],
   "metadata": {
    "collapsed": false,
    "ExecuteTime": {
     "end_time": "2023-08-09T13:41:25.041498600Z",
     "start_time": "2023-08-09T13:41:24.965348700Z"
    }
   }
  },
  {
   "cell_type": "code",
   "execution_count": 26,
   "outputs": [
    {
     "name": "stdout",
     "output_type": "stream",
     "text": [
      "no\n"
     ]
    }
   ],
   "source": [
    "x = 11\n",
    "if x > 5 and x< 10:\n",
    "    print(\"yes\")\n",
    "else:\n",
    "    print(\"no\")"
   ],
   "metadata": {
    "collapsed": false,
    "ExecuteTime": {
     "end_time": "2023-08-09T13:42:59.992260200Z",
     "start_time": "2023-08-09T13:42:59.978303900Z"
    }
   }
  },
  {
   "cell_type": "code",
   "execution_count": 27,
   "outputs": [
    {
     "name": "stdout",
     "output_type": "stream",
     "text": [
      "yes\n"
     ]
    }
   ],
   "source": [
    "x = 12\n",
    "if x > 5 or x < 10:\n",
    "    print(\"yes\")"
   ],
   "metadata": {
    "collapsed": false,
    "ExecuteTime": {
     "end_time": "2023-08-09T13:43:17.121055400Z",
     "start_time": "2023-08-09T13:43:17.086120200Z"
    }
   }
  },
  {
   "cell_type": "code",
   "execution_count": 30,
   "outputs": [
    {
     "name": "stdout",
     "output_type": "stream",
     "text": [
      "no\n"
     ]
    }
   ],
   "source": [
    "x = True\n",
    "y = False\n",
    "if x is y:\n",
    "    print(\"yes\")\n",
    "else:\n",
    "    print(\"no\")"
   ],
   "metadata": {
    "collapsed": false,
    "ExecuteTime": {
     "end_time": "2023-08-09T13:44:46.125476300Z",
     "start_time": "2023-08-09T13:44:46.094893900Z"
    }
   }
  },
  {
   "cell_type": "code",
   "execution_count": 31,
   "outputs": [
    {
     "name": "stdout",
     "output_type": "stream",
     "text": [
      "6\n"
     ]
    }
   ],
   "source": [
    "print(5+4-7+4)"
   ],
   "metadata": {
    "collapsed": false,
    "ExecuteTime": {
     "end_time": "2023-08-09T13:49:10.735132200Z",
     "start_time": "2023-08-09T13:49:10.717589100Z"
    }
   }
  },
  {
   "cell_type": "code",
   "execution_count": 32,
   "outputs": [
    {
     "name": "stdout",
     "output_type": "stream",
     "text": [
      "yes\n"
     ]
    }
   ],
   "source": [
    "lst = ['apple','banana']\n",
    "if 'apple' in lst:\n",
    "    print(\"yes\")"
   ],
   "metadata": {
    "collapsed": false,
    "ExecuteTime": {
     "end_time": "2023-08-09T13:53:10.012795600Z",
     "start_time": "2023-08-09T13:53:09.982517300Z"
    }
   }
  },
  {
   "cell_type": "code",
   "execution_count": 34,
   "outputs": [
    {
     "data": {
      "text/plain": "[0, 2, 4]"
     },
     "execution_count": 34,
     "metadata": {},
     "output_type": "execute_result"
    }
   ],
   "source": [
    "lst = [ x for x in range(0,5,2)]\n",
    "lst"
   ],
   "metadata": {
    "collapsed": false,
    "ExecuteTime": {
     "end_time": "2023-08-09T13:53:44.822860900Z",
     "start_time": "2023-08-09T13:53:44.528525800Z"
    }
   }
  },
  {
   "cell_type": "markdown",
   "source": [
    "# Python List"
   ],
   "metadata": {
    "collapsed": false
   }
  },
  {
   "cell_type": "code",
   "execution_count": 35,
   "outputs": [
    {
     "name": "stdout",
     "output_type": "stream",
     "text": [
      "['apple', 'mango', 'banana']\n"
     ]
    }
   ],
   "source": [
    "thislist = ['apple','mango','banana']\n",
    "print(thislist)"
   ],
   "metadata": {
    "collapsed": false,
    "ExecuteTime": {
     "end_time": "2023-08-09T13:56:11.461195300Z",
     "start_time": "2023-08-09T13:56:11.441584600Z"
    }
   }
  },
  {
   "cell_type": "code",
   "execution_count": 36,
   "outputs": [
    {
     "name": "stdout",
     "output_type": "stream",
     "text": [
      "5\n"
     ]
    }
   ],
   "source": [
    "lst = [2,35,3,53,2]\n",
    "print(len(lst))"
   ],
   "metadata": {
    "collapsed": false,
    "ExecuteTime": {
     "end_time": "2023-08-09T13:59:08.068520900Z",
     "start_time": "2023-08-09T13:59:08.021611Z"
    }
   }
  },
  {
   "cell_type": "code",
   "execution_count": 37,
   "outputs": [
    {
     "name": "stdout",
     "output_type": "stream",
     "text": [
      "[True, False, True]\n"
     ]
    }
   ],
   "source": [
    "lst = [True,False,True]\n",
    "print(lst)"
   ],
   "metadata": {
    "collapsed": false,
    "ExecuteTime": {
     "end_time": "2023-08-09T13:59:36.736284500Z",
     "start_time": "2023-08-09T13:59:36.701704400Z"
    }
   }
  },
  {
   "cell_type": "code",
   "execution_count": 39,
   "outputs": [
    {
     "name": "stdout",
     "output_type": "stream",
     "text": [
      "['string', 234, True]\n"
     ]
    }
   ],
   "source": [
    "lst = ['string',234,True]\n",
    "print(lst)"
   ],
   "metadata": {
    "collapsed": false,
    "ExecuteTime": {
     "end_time": "2023-08-09T14:00:21.705759500Z",
     "start_time": "2023-08-09T14:00:21.679827900Z"
    }
   }
  },
  {
   "cell_type": "code",
   "execution_count": 40,
   "outputs": [
    {
     "name": "stdout",
     "output_type": "stream",
     "text": [
      "['helo', 'moto', 23]\n"
     ]
    }
   ],
   "source": [
    "lst = list((\"helo\",'moto',23))\n",
    "print(lst)"
   ],
   "metadata": {
    "collapsed": false,
    "ExecuteTime": {
     "end_time": "2023-08-09T14:01:11.505618200Z",
     "start_time": "2023-08-09T14:01:11.486643800Z"
    }
   }
  },
  {
   "cell_type": "code",
   "execution_count": 44,
   "outputs": [
    {
     "name": "stdout",
     "output_type": "stream",
     "text": [
      "banana\n",
      "cherry\n"
     ]
    }
   ],
   "source": [
    "lst = ['apple','banana','cherry']\n",
    "print(lst[1])\n",
    "print(lst[-1])"
   ],
   "metadata": {
    "collapsed": false,
    "ExecuteTime": {
     "end_time": "2023-08-09T14:03:56.928313100Z",
     "start_time": "2023-08-09T14:03:56.903430Z"
    }
   }
  },
  {
   "cell_type": "code",
   "execution_count": 49,
   "outputs": [
    {
     "name": "stdout",
     "output_type": "stream",
     "text": [
      "['apple', 'cherry', 'kiwi', 'mango']\n"
     ]
    }
   ],
   "source": [
    "lst = [\"apple\", \"banana\", \"cherry\", \"orange\", \"kiwi\", \"melon\", \"mango\"]\n",
    "print(lst[::2])"
   ],
   "metadata": {
    "collapsed": false,
    "ExecuteTime": {
     "end_time": "2023-08-09T14:04:58.086774600Z",
     "start_time": "2023-08-09T14:04:58.047877100Z"
    }
   }
  },
  {
   "cell_type": "code",
   "execution_count": 50,
   "outputs": [
    {
     "name": "stdout",
     "output_type": "stream",
     "text": [
      "['apple', 'tushar', 'cherry', 'orange', 'kiwi', 'melon', 'mango']\n"
     ]
    }
   ],
   "source": [
    "lst = [\"apple\", \"banana\", \"cherry\", \"orange\", \"kiwi\", \"melon\", \"mango\"]\n",
    "lst[1] = \"tushar\"\n",
    "print(lst)"
   ],
   "metadata": {
    "collapsed": false,
    "ExecuteTime": {
     "end_time": "2023-08-09T14:07:24.900986700Z",
     "start_time": "2023-08-09T14:07:24.861216900Z"
    }
   }
  },
  {
   "cell_type": "code",
   "execution_count": 59,
   "outputs": [
    {
     "name": "stdout",
     "output_type": "stream",
     "text": [
      "['apple', 'tushar', 'gandhi', 'bewakof', 'kiwi', 'melon', 'mango']\n"
     ]
    }
   ],
   "source": [
    "lst = [\"apple\", \"banana\", \"cherry\", \"orange\", \"kiwi\", \"melon\", \"mango\"]\n",
    "lst[1:4]=['tushar','gandhi','bewakof']\n",
    "print(lst)"
   ],
   "metadata": {
    "collapsed": false,
    "ExecuteTime": {
     "end_time": "2023-08-09T14:10:43.155509500Z",
     "start_time": "2023-08-09T14:10:43.139370900Z"
    }
   }
  },
  {
   "cell_type": "code",
   "execution_count": 65,
   "outputs": [
    {
     "data": {
      "text/plain": "['apple', 'banana', 'hello', 'cerry']"
     },
     "execution_count": 65,
     "metadata": {},
     "output_type": "execute_result"
    }
   ],
   "source": [
    "lst = ['apple','banana','cerry']\n",
    "lst.insert(2,'hello')\n",
    "lst"
   ],
   "metadata": {
    "collapsed": false,
    "ExecuteTime": {
     "end_time": "2023-08-09T14:13:30.161156Z",
     "start_time": "2023-08-09T14:13:30.134353100Z"
    }
   }
  },
  {
   "cell_type": "code",
   "execution_count": 66,
   "outputs": [
    {
     "data": {
      "text/plain": "['apple', 'banana', 'cerry', 'class']"
     },
     "execution_count": 66,
     "metadata": {},
     "output_type": "execute_result"
    }
   ],
   "source": [
    "lst = ['apple','banana','cerry']\n",
    "lst.append('class')\n",
    "lst"
   ],
   "metadata": {
    "collapsed": false,
    "ExecuteTime": {
     "end_time": "2023-08-09T14:13:47.468488300Z",
     "start_time": "2023-08-09T14:13:47.432583400Z"
    }
   }
  },
  {
   "cell_type": "code",
   "execution_count": 70,
   "outputs": [
    {
     "name": "stdout",
     "output_type": "stream",
     "text": [
      "['apple', 'banana', 'cherry', 'coke']\n",
      "['cherry', 'coke']\n"
     ]
    }
   ],
   "source": [
    "l1 = ['apple','banana']\n",
    "l2 = ['cherry','coke']\n",
    "l1.extend(l2)\n",
    "print(l1)\n",
    "print(l2)"
   ],
   "metadata": {
    "collapsed": false,
    "ExecuteTime": {
     "end_time": "2023-08-09T14:23:58.002106800Z",
     "start_time": "2023-08-09T14:23:57.975962600Z"
    }
   }
  },
  {
   "cell_type": "code",
   "execution_count": 71,
   "outputs": [
    {
     "data": {
      "text/plain": "['apple', 'cerry']"
     },
     "execution_count": 71,
     "metadata": {},
     "output_type": "execute_result"
    }
   ],
   "source": [
    "lst = ['apple','banana','cerry']\n",
    "lst.remove('banana')\n",
    "lst"
   ],
   "metadata": {
    "collapsed": false,
    "ExecuteTime": {
     "end_time": "2023-08-09T14:25:59.195004300Z",
     "start_time": "2023-08-09T14:25:59.155110400Z"
    }
   }
  },
  {
   "cell_type": "code",
   "execution_count": 73,
   "outputs": [
    {
     "data": {
      "text/plain": "['apple', 'cerry']"
     },
     "execution_count": 73,
     "metadata": {},
     "output_type": "execute_result"
    }
   ],
   "source": [
    "lst = ['apple','banana','cerry']\n",
    "lst.pop(1)\n",
    "lst"
   ],
   "metadata": {
    "collapsed": false,
    "ExecuteTime": {
     "end_time": "2023-08-09T14:26:22.901952200Z",
     "start_time": "2023-08-09T14:26:22.878012700Z"
    }
   }
  },
  {
   "cell_type": "code",
   "execution_count": 74,
   "outputs": [
    {
     "name": "stdout",
     "output_type": "stream",
     "text": [
      "['banana', 'cerry']\n"
     ]
    }
   ],
   "source": [
    "lst = ['apple','banana','cerry']\n",
    "del lst[0]\n",
    "print(lst)"
   ],
   "metadata": {
    "collapsed": false,
    "ExecuteTime": {
     "end_time": "2023-08-09T14:27:04.519554900Z",
     "start_time": "2023-08-09T14:27:04.480811200Z"
    }
   }
  },
  {
   "cell_type": "code",
   "execution_count": 77,
   "outputs": [
    {
     "data": {
      "text/plain": "[]"
     },
     "execution_count": 77,
     "metadata": {},
     "output_type": "execute_result"
    }
   ],
   "source": [
    "lst = ['apple','banana','cerry']\n",
    "lst.clear()\n",
    "lst"
   ],
   "metadata": {
    "collapsed": false,
    "ExecuteTime": {
     "end_time": "2023-08-09T14:27:29.839327400Z",
     "start_time": "2023-08-09T14:27:29.820373800Z"
    }
   }
  },
  {
   "cell_type": "code",
   "execution_count": 78,
   "outputs": [
    {
     "name": "stdout",
     "output_type": "stream",
     "text": [
      "apple\n",
      "banana\n",
      "cherry\n"
     ]
    }
   ],
   "source": [
    "lst = ['apple','banana','cherry']\n",
    "for x in lst:\n",
    "    print(x)"
   ],
   "metadata": {
    "collapsed": false,
    "ExecuteTime": {
     "end_time": "2023-08-09T14:31:51.551080700Z",
     "start_time": "2023-08-09T14:31:51.479952100Z"
    }
   }
  },
  {
   "cell_type": "code",
   "execution_count": 80,
   "outputs": [
    {
     "name": "stdout",
     "output_type": "stream",
     "text": [
      "apple\n",
      "banana\n",
      "cherry\n"
     ]
    }
   ],
   "source": [
    "lst = ['apple','banana','cherry']\n",
    "for x in range(len(lst)):\n",
    "    print(lst[x])"
   ],
   "metadata": {
    "collapsed": false,
    "ExecuteTime": {
     "end_time": "2023-08-09T14:32:29.955979800Z",
     "start_time": "2023-08-09T14:32:29.904400800Z"
    }
   }
  },
  {
   "cell_type": "code",
   "execution_count": 83,
   "outputs": [
    {
     "name": "stdout",
     "output_type": "stream",
     "text": [
      "apple\n",
      "banana\n",
      "cherry\n"
     ]
    },
    {
     "data": {
      "text/plain": "[None, None, None]"
     },
     "execution_count": 83,
     "metadata": {},
     "output_type": "execute_result"
    }
   ],
   "source": [
    "lst = ['apple','banana','cherry']\n",
    "[print(x) for x in lst]"
   ],
   "metadata": {
    "collapsed": false,
    "ExecuteTime": {
     "end_time": "2023-08-09T14:33:57.507269500Z",
     "start_time": "2023-08-09T14:33:57.489064Z"
    }
   }
  },
  {
   "cell_type": "code",
   "execution_count": 84,
   "outputs": [
    {
     "name": "stdout",
     "output_type": "stream",
     "text": [
      "apple\n",
      "banana\n",
      "cherry\n"
     ]
    }
   ],
   "source": [
    "lst = ['apple','banana','cherry']\n",
    "i = 0\n",
    "while i < len(lst):\n",
    "    print(lst[i])\n",
    "    i += 1"
   ],
   "metadata": {
    "collapsed": false,
    "ExecuteTime": {
     "end_time": "2023-08-09T14:36:11.542990200Z",
     "start_time": "2023-08-09T14:36:11.493309700Z"
    }
   }
  },
  {
   "cell_type": "code",
   "execution_count": 88,
   "outputs": [
    {
     "data": {
      "text/plain": "['apple', 'banana']"
     },
     "execution_count": 88,
     "metadata": {},
     "output_type": "execute_result"
    }
   ],
   "source": [
    "lst = ['apple','banana','cherry']\n",
    "newlst = []\n",
    "for x in lst:\n",
    "    if 'a' in x:\n",
    "        newlst.append(x)\n",
    "newlst"
   ],
   "metadata": {
    "collapsed": false,
    "ExecuteTime": {
     "end_time": "2023-08-09T14:40:00.852024Z",
     "start_time": "2023-08-09T14:40:00.823541400Z"
    }
   }
  },
  {
   "cell_type": "code",
   "execution_count": 90,
   "outputs": [
    {
     "data": {
      "text/plain": "['apple', 'banana']"
     },
     "execution_count": 90,
     "metadata": {},
     "output_type": "execute_result"
    }
   ],
   "source": [
    "lst = ['apple','banana','cherry']\n",
    "newlst = [x for x in lst if 'a' in x]\n",
    "newlst"
   ],
   "metadata": {
    "collapsed": false,
    "ExecuteTime": {
     "end_time": "2023-08-09T14:41:30.136707900Z",
     "start_time": "2023-08-09T14:41:30.107784900Z"
    }
   }
  },
  {
   "cell_type": "code",
   "execution_count": 92,
   "outputs": [
    {
     "data": {
      "text/plain": "['banana', 'cherry']"
     },
     "execution_count": 92,
     "metadata": {},
     "output_type": "execute_result"
    }
   ],
   "source": [
    "lst = ['apple','banana','cherry']\n",
    "newlst = [x for x in lst if x != 'apple']\n",
    "newlst"
   ],
   "metadata": {
    "collapsed": false,
    "ExecuteTime": {
     "end_time": "2023-08-09T15:56:10.017215300Z",
     "start_time": "2023-08-09T15:56:09.988400500Z"
    }
   }
  },
  {
   "cell_type": "code",
   "execution_count": 94,
   "outputs": [
    {
     "data": {
      "text/plain": "[0, 1, 2, 3, 4]"
     },
     "execution_count": 94,
     "metadata": {},
     "output_type": "execute_result"
    }
   ],
   "source": [
    "lst = [x for x in range(10) if x < 5]\n",
    "lst"
   ],
   "metadata": {
    "collapsed": false,
    "ExecuteTime": {
     "end_time": "2023-08-09T15:57:15.466023600Z",
     "start_time": "2023-08-09T15:57:15.423984Z"
    }
   }
  },
  {
   "cell_type": "code",
   "execution_count": 95,
   "outputs": [
    {
     "data": {
      "text/plain": "[6, 7, 8, 9]"
     },
     "execution_count": 95,
     "metadata": {},
     "output_type": "execute_result"
    }
   ],
   "source": [
    "lst = [x for x in range(20) if x > 5 and x < 10]\n",
    "lst"
   ],
   "metadata": {
    "collapsed": false,
    "ExecuteTime": {
     "end_time": "2023-08-09T15:58:08.591111700Z",
     "start_time": "2023-08-09T15:58:08.305757300Z"
    }
   }
  },
  {
   "cell_type": "code",
   "execution_count": 98,
   "outputs": [
    {
     "data": {
      "text/plain": "[1, 3, 5, 7, 9, 11, 13, 15, 17, 19]"
     },
     "execution_count": 98,
     "metadata": {},
     "output_type": "execute_result"
    }
   ],
   "source": [
    "odd = [x for x in range(1,20) if x%2 != 0]\n",
    "odd"
   ],
   "metadata": {
    "collapsed": false,
    "ExecuteTime": {
     "end_time": "2023-08-09T15:59:44.502894600Z",
     "start_time": "2023-08-09T15:59:44.474020400Z"
    }
   }
  },
  {
   "cell_type": "code",
   "execution_count": 99,
   "outputs": [
    {
     "data": {
      "text/plain": "[2, 4, 6, 8, 10, 12, 14, 16, 18]"
     },
     "execution_count": 99,
     "metadata": {},
     "output_type": "execute_result"
    }
   ],
   "source": [
    "even = [x for x in range(1,20) if x%2 == 0]\n",
    "even"
   ],
   "metadata": {
    "collapsed": false,
    "ExecuteTime": {
     "end_time": "2023-08-09T16:00:48.418732800Z",
     "start_time": "2023-08-09T16:00:48.357249300Z"
    }
   }
  },
  {
   "cell_type": "code",
   "execution_count": 100,
   "outputs": [
    {
     "data": {
      "text/plain": "['APPLE', 'BANNANA', 'CHERRY']"
     },
     "execution_count": 100,
     "metadata": {},
     "output_type": "execute_result"
    }
   ],
   "source": [
    "lst = ['apple','bannana','cherry']\n",
    "newlst = [x.upper() for x in lst]\n",
    "newlst"
   ],
   "metadata": {
    "collapsed": false,
    "ExecuteTime": {
     "end_time": "2023-08-09T16:02:38.586012300Z",
     "start_time": "2023-08-09T16:02:38.523247400Z"
    }
   }
  },
  {
   "cell_type": "code",
   "execution_count": 3,
   "outputs": [
    {
     "data": {
      "text/plain": "['guava', 'guava', 'guava']"
     },
     "execution_count": 3,
     "metadata": {},
     "output_type": "execute_result"
    }
   ],
   "source": [
    "lst = ['apple','bannana','cherry']\n",
    "newlst = [x  if x == 'banana' else 'guava' for x in lst]\n",
    "newlst"
   ],
   "metadata": {
    "collapsed": false,
    "ExecuteTime": {
     "end_time": "2023-08-10T15:03:08.469672400Z",
     "start_time": "2023-08-10T15:03:08.415815Z"
    }
   }
  },
  {
   "cell_type": "code",
   "execution_count": 4,
   "outputs": [
    {
     "data": {
      "text/plain": "[100, 3, 100, 100, 100, 3]"
     },
     "execution_count": 4,
     "metadata": {},
     "output_type": "execute_result"
    }
   ],
   "source": [
    "lst = [2,3,5,2,4,3]\n",
    "newlst = [x if x == 3 else 100 for x in lst]\n",
    "newlst"
   ],
   "metadata": {
    "collapsed": false,
    "ExecuteTime": {
     "end_time": "2023-08-10T15:04:30.242714500Z",
     "start_time": "2023-08-10T15:04:30.160561100Z"
    }
   }
  },
  {
   "cell_type": "code",
   "execution_count": 5,
   "outputs": [
    {
     "data": {
      "text/plain": "[2, 2, 3, 3, 4, 5, 5, 5]"
     },
     "execution_count": 5,
     "metadata": {},
     "output_type": "execute_result"
    }
   ],
   "source": [
    "lst = [2,4,5,2,5,3,5,3]\n",
    "lst.sort()\n",
    "lst"
   ],
   "metadata": {
    "collapsed": false,
    "ExecuteTime": {
     "end_time": "2023-08-10T15:06:17.190484600Z",
     "start_time": "2023-08-10T15:06:17.097022700Z"
    }
   }
  },
  {
   "cell_type": "code",
   "execution_count": 6,
   "outputs": [
    {
     "data": {
      "text/plain": "['apple', 'banana', 'cherry', 'guava']"
     },
     "execution_count": 6,
     "metadata": {},
     "output_type": "execute_result"
    }
   ],
   "source": [
    "lst = ['apple','banana','guava','cherry']\n",
    "lst.sort()\n",
    "lst"
   ],
   "metadata": {
    "collapsed": false,
    "ExecuteTime": {
     "end_time": "2023-08-10T15:06:49.421771400Z",
     "start_time": "2023-08-10T15:06:49.305452700Z"
    }
   }
  },
  {
   "cell_type": "code",
   "execution_count": 7,
   "outputs": [
    {
     "data": {
      "text/plain": "[43, 5, 5, 5, 4, 3, 3, 2]"
     },
     "execution_count": 7,
     "metadata": {},
     "output_type": "execute_result"
    }
   ],
   "source": [
    "lst = [2,4,5,43,5,3,5,3]\n",
    "lst.sort(reverse=True)\n",
    "lst"
   ],
   "metadata": {
    "collapsed": false,
    "ExecuteTime": {
     "end_time": "2023-08-10T15:07:36.089332800Z",
     "start_time": "2023-08-10T15:07:35.967024100Z"
    }
   }
  },
  {
   "cell_type": "markdown",
   "source": [
    "# Sort the list based on how close the number is to 60:"
   ],
   "metadata": {
    "collapsed": false
   }
  },
  {
   "cell_type": "code",
   "execution_count": 10,
   "outputs": [
    {
     "data": {
      "text/plain": "[65, 50, 82, 23, 100]"
     },
     "execution_count": 10,
     "metadata": {},
     "output_type": "execute_result"
    }
   ],
   "source": [
    "def func(n):\n",
    "    return abs(n-60)\n",
    "lst = [100, 50, 65, 82, 23]\n",
    "lst.sort(key=func)\n",
    "lst"
   ],
   "metadata": {
    "collapsed": false,
    "ExecuteTime": {
     "end_time": "2023-08-10T15:12:35.429980400Z",
     "start_time": "2023-08-10T15:12:35.387170600Z"
    }
   }
  },
  {
   "cell_type": "code",
   "execution_count": 12,
   "outputs": [
    {
     "data": {
      "text/plain": "['banana', 'cherry', 'Kiwi', 'Orange']"
     },
     "execution_count": 12,
     "metadata": {},
     "output_type": "execute_result"
    }
   ],
   "source": [
    "thislist = [\"banana\", \"Orange\", \"Kiwi\", \"cherry\"]\n",
    "thislist.sort(key=str.lower)\n",
    "thislist"
   ],
   "metadata": {
    "collapsed": false,
    "ExecuteTime": {
     "end_time": "2023-08-10T15:14:07.234105600Z",
     "start_time": "2023-08-10T15:14:07.049228300Z"
    }
   }
  },
  {
   "cell_type": "code",
   "execution_count": 13,
   "outputs": [
    {
     "data": {
      "text/plain": "['cherry', 'banana', 'apple']"
     },
     "execution_count": 13,
     "metadata": {},
     "output_type": "execute_result"
    }
   ],
   "source": [
    "lst = ['apple','banana','cherry']\n",
    "lst.reverse()\n",
    "lst"
   ],
   "metadata": {
    "collapsed": false,
    "ExecuteTime": {
     "end_time": "2023-08-10T15:14:55.303927400Z",
     "start_time": "2023-08-10T15:14:55.199408200Z"
    }
   }
  },
  {
   "cell_type": "code",
   "execution_count": 14,
   "outputs": [
    {
     "data": {
      "text/plain": "['apple', 'banana', 'cherry']"
     },
     "execution_count": 14,
     "metadata": {},
     "output_type": "execute_result"
    }
   ],
   "source": [
    "lst = ['apple','banana','cherry']\n",
    "ls1 = lst.copy()\n",
    "ls1"
   ],
   "metadata": {
    "collapsed": false,
    "ExecuteTime": {
     "end_time": "2023-08-10T15:16:14.688815100Z",
     "start_time": "2023-08-10T15:16:14.562434200Z"
    }
   }
  },
  {
   "cell_type": "code",
   "execution_count": 15,
   "outputs": [
    {
     "data": {
      "text/plain": "['a', 'b', 'c', 1, 2, 3]"
     },
     "execution_count": 15,
     "metadata": {},
     "output_type": "execute_result"
    }
   ],
   "source": [
    "l1 = ['a','b','c']\n",
    "l2 = [1,2,3]\n",
    "l3 = l1+l2\n",
    "l3"
   ],
   "metadata": {
    "collapsed": false,
    "ExecuteTime": {
     "end_time": "2023-08-10T15:19:04.942369700Z",
     "start_time": "2023-08-10T15:19:04.828719500Z"
    }
   }
  },
  {
   "cell_type": "code",
   "execution_count": 16,
   "outputs": [
    {
     "data": {
      "text/plain": "['a', 'b', 'c', 1, 2, 3]"
     },
     "execution_count": 16,
     "metadata": {},
     "output_type": "execute_result"
    }
   ],
   "source": [
    "l1 = ['a','b','c']\n",
    "l2 = [1,2,3]\n",
    "for x in l2:\n",
    "    l1.append(x)\n",
    "l1"
   ],
   "metadata": {
    "collapsed": false,
    "ExecuteTime": {
     "end_time": "2023-08-10T15:19:37.217349900Z",
     "start_time": "2023-08-10T15:19:37.102460400Z"
    }
   }
  },
  {
   "cell_type": "code",
   "execution_count": 17,
   "outputs": [
    {
     "data": {
      "text/plain": "['a', 'b', 'c', 1, 2, 3]"
     },
     "execution_count": 17,
     "metadata": {},
     "output_type": "execute_result"
    }
   ],
   "source": [
    "l1 = ['a','b','c']\n",
    "l2 = [1,2,3]\n",
    "l1.extend(l2)\n",
    "l1"
   ],
   "metadata": {
    "collapsed": false,
    "ExecuteTime": {
     "end_time": "2023-08-10T15:19:50.438137400Z",
     "start_time": "2023-08-10T15:19:50.366964Z"
    }
   }
  },
  {
   "cell_type": "markdown",
   "source": [
    "# Method\tDescription\n",
    "append()\tAdds an element at the end of the list\n",
    "clear()\tRemoves all the elements from the list\n",
    "copy()\tReturns a copy of the list\n",
    "count()\tReturns the number of elements with the specified value\n",
    "extend()\tAdd the elements of a list (or any iterable), to the end of the current list\n",
    "index()\tReturns the index of the first element with the specified value\n",
    "insert()\tAdds an element at the specified position\n",
    "pop()\tRemoves the element at the specified position\n",
    "remove()\tRemoves the item with the specified value\n",
    "reverse()\tReverses the order of the list\n",
    "sort()\tSorts the list"
   ],
   "metadata": {
    "collapsed": false
   }
  },
  {
   "cell_type": "markdown",
   "source": [
    "# Tupple"
   ],
   "metadata": {
    "collapsed": false
   }
  },
  {
   "cell_type": "code",
   "execution_count": 20,
   "outputs": [
    {
     "name": "stdout",
     "output_type": "stream",
     "text": [
      "<class 'str'>\n"
     ]
    }
   ],
   "source": [
    "tpl = (\"apple\")\n",
    "print(type(tpl))"
   ],
   "metadata": {
    "collapsed": false,
    "ExecuteTime": {
     "end_time": "2023-08-10T15:32:50.467858700Z",
     "start_time": "2023-08-10T15:32:50.419612400Z"
    }
   }
  },
  {
   "cell_type": "code",
   "execution_count": 21,
   "outputs": [
    {
     "name": "stdout",
     "output_type": "stream",
     "text": [
      "<class 'tuple'>\n"
     ]
    }
   ],
   "source": [
    "tpl = (\"apple\",'bananna','cherry')\n",
    "print(type(tpl))"
   ],
   "metadata": {
    "collapsed": false,
    "ExecuteTime": {
     "end_time": "2023-08-10T15:33:13.103677800Z",
     "start_time": "2023-08-10T15:33:13.029193700Z"
    }
   }
  },
  {
   "cell_type": "code",
   "execution_count": 22,
   "outputs": [
    {
     "name": "stdout",
     "output_type": "stream",
     "text": [
      "3\n"
     ]
    }
   ],
   "source": [
    "tpl = ('apple','bannana','cherry')\n",
    "print(len(tpl))"
   ],
   "metadata": {
    "collapsed": false,
    "ExecuteTime": {
     "end_time": "2023-08-10T15:33:40.237001200Z",
     "start_time": "2023-08-10T15:33:40.138290900Z"
    }
   }
  },
  {
   "cell_type": "code",
   "execution_count": 27,
   "outputs": [
    {
     "name": "stdout",
     "output_type": "stream",
     "text": [
      "bannana\n"
     ]
    }
   ],
   "source": [
    "tpl = ('apple','bannana','cherry')\n",
    "print(tpl[1])"
   ],
   "metadata": {
    "collapsed": false,
    "ExecuteTime": {
     "end_time": "2023-08-10T15:38:02.476594800Z",
     "start_time": "2023-08-10T15:38:02.395456100Z"
    }
   }
  },
  {
   "cell_type": "code",
   "execution_count": 28,
   "outputs": [
    {
     "name": "stdout",
     "output_type": "stream",
     "text": [
      "cherry\n"
     ]
    }
   ],
   "source": [
    "tpl = ('apple','bannana','cherry')\n",
    "print(tpl[-1])"
   ],
   "metadata": {
    "collapsed": false,
    "ExecuteTime": {
     "end_time": "2023-08-10T15:38:12.144497Z",
     "start_time": "2023-08-10T15:38:12.057950600Z"
    }
   }
  },
  {
   "cell_type": "code",
   "execution_count": 30,
   "outputs": [
    {
     "data": {
      "text/plain": "('apple', 'guaja', 'cherry')"
     },
     "execution_count": 30,
     "metadata": {},
     "output_type": "execute_result"
    }
   ],
   "source": [
    "tpl = ('apple','bannana','cherry')\n",
    "lst = list(tpl)\n",
    "lst[1] = 'guaja'\n",
    "tpl = tuple(lst)\n",
    "tpl"
   ],
   "metadata": {
    "collapsed": false,
    "ExecuteTime": {
     "end_time": "2023-08-10T15:41:18.788928100Z",
     "start_time": "2023-08-10T15:41:18.698135600Z"
    }
   }
  },
  {
   "cell_type": "code",
   "execution_count": 31,
   "outputs": [
    {
     "data": {
      "text/plain": "('apple', 'bannana', 'cherry', 'ehllo')"
     },
     "execution_count": 31,
     "metadata": {},
     "output_type": "execute_result"
    }
   ],
   "source": [
    "tpl = ('apple','bannana','cherry')\n",
    "lst = list(tpl)\n",
    "lst.append(\"ehllo\")\n",
    "tpl = tuple(lst)\n",
    "tpl"
   ],
   "metadata": {
    "collapsed": false,
    "ExecuteTime": {
     "end_time": "2023-08-10T15:41:54.039587300Z",
     "start_time": "2023-08-10T15:41:53.944324400Z"
    }
   }
  },
  {
   "cell_type": "code",
   "execution_count": 32,
   "outputs": [
    {
     "data": {
      "text/plain": "('apple', 'bannana')"
     },
     "execution_count": 32,
     "metadata": {},
     "output_type": "execute_result"
    }
   ],
   "source": [
    "tpl = ('apple','bannana','cherry')\n",
    "lst = list(tpl)\n",
    "lst.remove(\"cherry\")\n",
    "tpl = tuple(lst)\n",
    "tpl"
   ],
   "metadata": {
    "collapsed": false,
    "ExecuteTime": {
     "end_time": "2023-08-10T15:42:48.782591600Z",
     "start_time": "2023-08-10T15:42:48.672567400Z"
    }
   }
  },
  {
   "cell_type": "code",
   "execution_count": 33,
   "outputs": [
    {
     "name": "stdout",
     "output_type": "stream",
     "text": [
      "apple\n",
      "bannana\n",
      "cherry\n"
     ]
    }
   ],
   "source": [
    "tpl = ('apple','bannana','cherry')\n",
    "(x,y,z) = tpl\n",
    "print(x)\n",
    "print(y)\n",
    "print(z)"
   ],
   "metadata": {
    "collapsed": false,
    "ExecuteTime": {
     "end_time": "2023-08-10T15:44:54.218634700Z",
     "start_time": "2023-08-10T15:44:54.010755400Z"
    }
   }
  },
  {
   "cell_type": "code",
   "execution_count": 34,
   "outputs": [
    {
     "name": "stdout",
     "output_type": "stream",
     "text": [
      "apple\n",
      "banana\n",
      "['cherry', 'strawberry', 'raspberry']\n"
     ]
    }
   ],
   "source": [
    "fruits = (\"apple\", \"banana\", \"cherry\", \"strawberry\", \"raspberry\")\n",
    "\n",
    "(green, yellow, *red) = fruits\n",
    "\n",
    "print(green)\n",
    "print(yellow)\n",
    "print(red)"
   ],
   "metadata": {
    "collapsed": false,
    "ExecuteTime": {
     "end_time": "2023-08-10T15:45:08.509933300Z",
     "start_time": "2023-08-10T15:45:08.424819800Z"
    }
   }
  },
  {
   "cell_type": "code",
   "execution_count": 46,
   "outputs": [
    {
     "data": {
      "text/plain": "('apple', 'banana', 'cherry', 'apple', 'banana', 'cherry')"
     },
     "execution_count": 46,
     "metadata": {},
     "output_type": "execute_result"
    }
   ],
   "source": [
    "tpl = ('apple','banana','cherry')\n",
    "tpl = tpl*2\n",
    "tpl"
   ],
   "metadata": {
    "collapsed": false,
    "ExecuteTime": {
     "end_time": "2023-08-10T16:06:34.032382500Z",
     "start_time": "2023-08-10T16:06:33.918490300Z"
    }
   }
  },
  {
   "cell_type": "code",
   "execution_count": 48,
   "outputs": [
    {
     "name": "stdout",
     "output_type": "stream",
     "text": [
      "1\n"
     ]
    }
   ],
   "source": [
    "tpl = ('apple','banana','cherry')\n",
    "print(tpl.index('banana'))"
   ],
   "metadata": {
    "collapsed": false,
    "ExecuteTime": {
     "end_time": "2023-08-10T16:07:27.253590200Z",
     "start_time": "2023-08-10T16:07:27.194602500Z"
    }
   }
  },
  {
   "cell_type": "markdown",
   "source": [
    "# Set"
   ],
   "metadata": {
    "collapsed": false
   }
  },
  {
   "cell_type": "code",
   "execution_count": 49,
   "outputs": [
    {
     "data": {
      "text/plain": "{'apple', 'banana', 'cherry'}"
     },
     "execution_count": 49,
     "metadata": {},
     "output_type": "execute_result"
    }
   ],
   "source": [
    "se = {'apple','banana','cherry'}\n",
    "se"
   ],
   "metadata": {
    "collapsed": false,
    "ExecuteTime": {
     "end_time": "2023-08-10T16:14:22.968623900Z",
     "start_time": "2023-08-10T16:14:22.917746600Z"
    }
   }
  },
  {
   "cell_type": "code",
   "execution_count": 51,
   "outputs": [
    {
     "data": {
      "text/plain": "3"
     },
     "execution_count": 51,
     "metadata": {},
     "output_type": "execute_result"
    }
   ],
   "source": [
    "se = {'apple','banana','cherry','apple'}\n",
    "len(se)"
   ],
   "metadata": {
    "collapsed": false,
    "ExecuteTime": {
     "end_time": "2023-08-10T16:16:00.085823600Z",
     "start_time": "2023-08-10T16:16:00.030025800Z"
    }
   }
  },
  {
   "cell_type": "code",
   "execution_count": 52,
   "outputs": [
    {
     "name": "stdout",
     "output_type": "stream",
     "text": [
      "banana\n",
      "apple\n",
      "cherry\n"
     ]
    }
   ],
   "source": [
    "se = {'apple','banana','cherry'}\n",
    "for x in se:\n",
    "    print(x)"
   ],
   "metadata": {
    "collapsed": false,
    "ExecuteTime": {
     "end_time": "2023-08-10T16:18:38.873485300Z",
     "start_time": "2023-08-10T16:18:38.823025600Z"
    }
   }
  },
  {
   "cell_type": "code",
   "execution_count": 56,
   "outputs": [
    {
     "name": "stdout",
     "output_type": "stream",
     "text": [
      "apple\n",
      "banana\n",
      "cherry\n"
     ]
    }
   ],
   "source": [
    "se = {'apple','banana','cherry'}\n",
    "for x in range(len(se)):\n",
    "    print(se[x])"
   ],
   "metadata": {
    "collapsed": false,
    "ExecuteTime": {
     "end_time": "2023-08-10T16:20:03.326660400Z",
     "start_time": "2023-08-10T16:20:03.292291300Z"
    }
   }
  },
  {
   "cell_type": "code",
   "execution_count": 57,
   "outputs": [
    {
     "name": "stdout",
     "output_type": "stream",
     "text": [
      "True\n"
     ]
    }
   ],
   "source": [
    "print('banana' in se)"
   ],
   "metadata": {
    "collapsed": false,
    "ExecuteTime": {
     "end_time": "2023-08-10T16:20:44.713151600Z",
     "start_time": "2023-08-10T16:20:44.644756700Z"
    }
   }
  },
  {
   "cell_type": "code",
   "execution_count": 58,
   "outputs": [
    {
     "data": {
      "text/plain": "{'apple', 'banana', 'cherry', 'guava'}"
     },
     "execution_count": 58,
     "metadata": {},
     "output_type": "execute_result"
    }
   ],
   "source": [
    "se = {'apple','banana','cherry'}\n",
    "se.add('guava')\n",
    "se"
   ],
   "metadata": {
    "collapsed": false,
    "ExecuteTime": {
     "end_time": "2023-08-10T16:22:09.008496500Z",
     "start_time": "2023-08-10T16:22:08.957490700Z"
    }
   }
  },
  {
   "cell_type": "code",
   "execution_count": 60,
   "outputs": [
    {
     "data": {
      "text/plain": "{'apple', 'banana', 'cherry', 'gafha', 'llll'}"
     },
     "execution_count": 60,
     "metadata": {},
     "output_type": "execute_result"
    }
   ],
   "source": [
    "se = {'apple','banana','cherry'}\n",
    "se2 = {'llll','gafha'}\n",
    "se.update(se2)\n",
    "se"
   ],
   "metadata": {
    "collapsed": false,
    "ExecuteTime": {
     "end_time": "2023-08-10T16:22:42.340799300Z",
     "start_time": "2023-08-10T16:22:42.274926700Z"
    }
   }
  },
  {
   "cell_type": "code",
   "execution_count": 61,
   "outputs": [
    {
     "data": {
      "text/plain": "{'apple', 'cherry'}"
     },
     "execution_count": 61,
     "metadata": {},
     "output_type": "execute_result"
    }
   ],
   "source": [
    "se = {'apple','banana','cherry'}\n",
    "se.remove('banana')\n",
    "se"
   ],
   "metadata": {
    "collapsed": false,
    "ExecuteTime": {
     "end_time": "2023-08-10T16:26:59.816570400Z",
     "start_time": "2023-08-10T16:26:59.761648900Z"
    }
   }
  },
  {
   "cell_type": "code",
   "execution_count": 62,
   "outputs": [
    {
     "data": {
      "text/plain": "{'banana', 'cherry'}"
     },
     "execution_count": 62,
     "metadata": {},
     "output_type": "execute_result"
    }
   ],
   "source": [
    "se = {'apple','banana','cherry'}\n",
    "se.discard('apple')\n",
    "se"
   ],
   "metadata": {
    "collapsed": false,
    "ExecuteTime": {
     "end_time": "2023-08-10T16:27:12.793873400Z",
     "start_time": "2023-08-10T16:27:12.738781600Z"
    }
   }
  },
  {
   "cell_type": "code",
   "execution_count": 66,
   "outputs": [
    {
     "name": "stdout",
     "output_type": "stream",
     "text": [
      "banana\n"
     ]
    }
   ],
   "source": [
    "se = {'apple','banana','cherry'}\n",
    "x = se.pop()\n",
    "print(x)"
   ],
   "metadata": {
    "collapsed": false,
    "ExecuteTime": {
     "end_time": "2023-08-10T16:27:41.449298Z",
     "start_time": "2023-08-10T16:27:41.417258200Z"
    }
   }
  },
  {
   "cell_type": "code",
   "execution_count": 71,
   "outputs": [
    {
     "data": {
      "text/plain": "{'apple'}"
     },
     "execution_count": 71,
     "metadata": {},
     "output_type": "execute_result"
    }
   ],
   "source": [
    "se = {'apple','banana','cherry'}\n",
    "se2 = {'apple','gafha'}\n",
    "se.intersection_update(se2)\n",
    "se"
   ],
   "metadata": {
    "collapsed": false,
    "ExecuteTime": {
     "end_time": "2023-08-10T16:29:50.258757900Z",
     "start_time": "2023-08-10T16:29:50.227856300Z"
    }
   }
  },
  {
   "cell_type": "code",
   "execution_count": 73,
   "outputs": [
    {
     "data": {
      "text/plain": "{2, 'banana', 'cherry', 'google'}"
     },
     "execution_count": 73,
     "metadata": {},
     "output_type": "execute_result"
    }
   ],
   "source": [
    "x = {\"apple\", \"banana\", \"cherry\", True}\n",
    "y = {\"google\", 1, \"apple\", 2}\n",
    "\n",
    "z = x.symmetric_difference(y)\n",
    "z"
   ],
   "metadata": {
    "collapsed": false,
    "ExecuteTime": {
     "end_time": "2023-08-10T16:31:15.164132700Z",
     "start_time": "2023-08-10T16:31:15.128006800Z"
    }
   }
  },
  {
   "cell_type": "markdown",
   "source": [
    "# Dictionary"
   ],
   "metadata": {
    "collapsed": false
   }
  },
  {
   "cell_type": "code",
   "execution_count": 2,
   "outputs": [
    {
     "data": {
      "text/plain": "{'brand': 'mustang', 'model': 'ford', 'year': '2343'}"
     },
     "execution_count": 2,
     "metadata": {},
     "output_type": "execute_result"
    }
   ],
   "source": [
    "thcar={\n",
    "    \"brand\":\"mustang\",\n",
    "    \"model\":\"ford\",\n",
    "    \"year\":'2393',\n",
    "    \"year\":'2343'\n",
    "}\n",
    "thcar"
   ],
   "metadata": {
    "collapsed": false,
    "ExecuteTime": {
     "end_time": "2023-08-11T14:01:25.810500700Z",
     "start_time": "2023-08-11T14:01:25.769949Z"
    }
   }
  },
  {
   "cell_type": "code",
   "execution_count": 3,
   "outputs": [
    {
     "name": "stdout",
     "output_type": "stream",
     "text": [
      "3\n"
     ]
    }
   ],
   "source": [
    "thcar={\n",
    "    \"brand\":\"mustang\",\n",
    "    \"model\":\"ford\",\n",
    "    \"year\":'2393'\n",
    "}\n",
    "print(len(thcar))"
   ],
   "metadata": {
    "collapsed": false,
    "ExecuteTime": {
     "end_time": "2023-08-11T14:01:52.748558500Z",
     "start_time": "2023-08-11T14:01:52.679771700Z"
    }
   }
  },
  {
   "cell_type": "code",
   "execution_count": 6,
   "outputs": [
    {
     "name": "stdout",
     "output_type": "stream",
     "text": [
      "['red', 'blue', 'green']\n"
     ]
    }
   ],
   "source": [
    "thcar={\n",
    "    \"brand\":\"ford\",\n",
    "    \"electric\":False,\n",
    "    \"year\":2343,\n",
    "    \"color\":['red','blue','green']\n",
    "}\n",
    "print(thcar['color'])"
   ],
   "metadata": {
    "collapsed": false,
    "ExecuteTime": {
     "end_time": "2023-08-11T14:04:03.947783900Z",
     "start_time": "2023-08-11T14:04:03.885652200Z"
    }
   }
  },
  {
   "cell_type": "code",
   "execution_count": 7,
   "outputs": [
    {
     "name": "stdout",
     "output_type": "stream",
     "text": [
      "{'name': 'tushar', 'country': 'norway'}\n"
     ]
    }
   ],
   "source": [
    "thisdic = dict(name=\"tushar\",country='norway')\n",
    "print(thisdic)"
   ],
   "metadata": {
    "collapsed": false,
    "ExecuteTime": {
     "end_time": "2023-08-11T14:04:51.774655700Z",
     "start_time": "2023-08-11T14:04:51.714521700Z"
    }
   }
  },
  {
   "cell_type": "code",
   "execution_count": 9,
   "outputs": [
    {
     "data": {
      "text/plain": "['red', 'blue', 'green']"
     },
     "execution_count": 9,
     "metadata": {},
     "output_type": "execute_result"
    }
   ],
   "source": [
    "thcar={\n",
    "    \"brand\":\"ford\",\n",
    "    \"electric\":False,\n",
    "    \"year\":2343,\n",
    "    \"color\":['red','blue','green']\n",
    "}\n",
    "x = thcar['color']\n",
    "x"
   ],
   "metadata": {
    "collapsed": false,
    "ExecuteTime": {
     "end_time": "2023-08-11T14:05:57.034290700Z",
     "start_time": "2023-08-11T14:05:57.005367900Z"
    }
   }
  },
  {
   "cell_type": "code",
   "execution_count": 13,
   "outputs": [
    {
     "name": "stdout",
     "output_type": "stream",
     "text": [
      "dict_values(['ford', False, 2343, ['red', 'blue', 'green']])\n",
      "dict_keys(['brand', 'electric', 'year', 'color'])\n"
     ]
    }
   ],
   "source": [
    "thcar={\n",
    "    \"brand\":\"ford\",\n",
    "    \"electric\":False,\n",
    "    \"year\":2343,\n",
    "    \"color\":['red','blue','green']\n",
    "}\n",
    "x = thcar.get('year')\n",
    "x\n",
    "x = thcar.values()\n",
    "y = thcar.keys()\n",
    "print(x)\n",
    "print(y)"
   ],
   "metadata": {
    "collapsed": false,
    "ExecuteTime": {
     "end_time": "2023-08-11T14:08:15.116370900Z",
     "start_time": "2023-08-11T14:08:15.078447700Z"
    }
   }
  },
  {
   "cell_type": "code",
   "execution_count": 14,
   "outputs": [
    {
     "name": "stdout",
     "output_type": "stream",
     "text": [
      "dict_items([('brand', 'ford'), ('electric', False), ('year', 2343), ('color', ['red', 'blue', 'green'])])\n"
     ]
    }
   ],
   "source": [
    "thcar={\n",
    "    \"brand\":\"ford\",\n",
    "    \"electric\":False,\n",
    "    \"year\":2343,\n",
    "    \"color\":['red','blue','green']\n",
    "}\n",
    "x = thcar.items()\n",
    "print(x)"
   ],
   "metadata": {
    "collapsed": false,
    "ExecuteTime": {
     "end_time": "2023-08-11T14:08:47.511832700Z",
     "start_time": "2023-08-11T14:08:47.435664200Z"
    }
   }
  },
  {
   "cell_type": "code",
   "execution_count": 15,
   "outputs": [
    {
     "name": "stdout",
     "output_type": "stream",
     "text": [
      "True\n"
     ]
    }
   ],
   "source": [
    "thcar={\n",
    "    \"brand\":\"ford\",\n",
    "    \"electric\":False,\n",
    "    \"year\":2343,\n",
    "    \"color\":['red','blue','green']\n",
    "}\n",
    "print(\"year\" in thcar)"
   ],
   "metadata": {
    "collapsed": false,
    "ExecuteTime": {
     "end_time": "2023-08-11T14:09:34.400634Z",
     "start_time": "2023-08-11T14:09:34.343785300Z"
    }
   }
  },
  {
   "cell_type": "code",
   "execution_count": 17,
   "outputs": [
    {
     "data": {
      "text/plain": "{'brand': 'ford',\n 'electric': False,\n 'year': 2340,\n 'color': ['red', 'blue', 'green']}"
     },
     "execution_count": 17,
     "metadata": {},
     "output_type": "execute_result"
    }
   ],
   "source": [
    "thcar={\n",
    "    \"brand\":\"ford\",\n",
    "    \"electric\":False,\n",
    "    \"year\":2343,\n",
    "    \"color\":['red','blue','green']\n",
    "}\n",
    "thcar['year'] = 2340\n",
    "thcar"
   ],
   "metadata": {
    "collapsed": false,
    "ExecuteTime": {
     "end_time": "2023-08-11T14:10:50.414040700Z",
     "start_time": "2023-08-11T14:10:50.377341400Z"
    }
   }
  },
  {
   "cell_type": "code",
   "execution_count": 19,
   "outputs": [
    {
     "data": {
      "text/plain": "{'brand': 'ford',\n 'electric': False,\n 'year': 2334,\n 'color': ['red', 'blue', 'green']}"
     },
     "execution_count": 19,
     "metadata": {},
     "output_type": "execute_result"
    }
   ],
   "source": [
    "thcar={\n",
    "    \"brand\":\"ford\",\n",
    "    \"electric\":False,\n",
    "    \"year\":2343,\n",
    "    \"color\":['red','blue','green']\n",
    "}\n",
    "thcar.update({'year':2334})\n",
    "thcar"
   ],
   "metadata": {
    "collapsed": false,
    "ExecuteTime": {
     "end_time": "2023-08-11T14:11:36.155365400Z",
     "start_time": "2023-08-11T14:11:36.122227700Z"
    }
   }
  },
  {
   "cell_type": "code",
   "execution_count": 20,
   "outputs": [
    {
     "data": {
      "text/plain": "{'brand': 'ford',\n 'electric': False,\n 'year': 2343,\n 'color': ['red', 'blue', 'green'],\n 'model': 'mustang'}"
     },
     "execution_count": 20,
     "metadata": {},
     "output_type": "execute_result"
    }
   ],
   "source": [
    "thcar={\n",
    "    \"brand\":\"ford\",\n",
    "    \"electric\":False,\n",
    "    \"year\":2343,\n",
    "    \"color\":['red','blue','green']\n",
    "}\n",
    "thcar.update({'model':'mustang'})\n",
    "thcar"
   ],
   "metadata": {
    "collapsed": false,
    "ExecuteTime": {
     "end_time": "2023-08-11T14:12:57.214162700Z",
     "start_time": "2023-08-11T14:12:57.134376100Z"
    }
   }
  },
  {
   "cell_type": "code",
   "execution_count": 26,
   "outputs": [
    {
     "name": "stdout",
     "output_type": "stream",
     "text": [
      "{'brand': 'ford', 'year': 2343, 'color': ['red', 'blue', 'green']}\n"
     ]
    }
   ],
   "source": [
    "thcar={\n",
    "    \"brand\":\"ford\",\n",
    "    \"electric\":False,\n",
    "    \"year\":2343,\n",
    "    \"color\":['red','blue','green']\n",
    "}\n",
    "thcar.pop('electric')\n",
    "print(thcar)"
   ],
   "metadata": {
    "collapsed": false,
    "ExecuteTime": {
     "end_time": "2023-08-11T14:15:06.217986100Z",
     "start_time": "2023-08-11T14:15:06.194034200Z"
    }
   }
  },
  {
   "cell_type": "code",
   "execution_count": 27,
   "outputs": [
    {
     "name": "stdout",
     "output_type": "stream",
     "text": [
      "brand\n",
      "electric\n",
      "year\n",
      "color\n"
     ]
    }
   ],
   "source": [
    "thcar={\n",
    "    \"brand\":\"ford\",\n",
    "    \"electric\":False,\n",
    "    \"year\":2343,\n",
    "    \"color\":['red','blue','green']\n",
    "}\n",
    "for x in thcar:\n",
    "    print(x)"
   ],
   "metadata": {
    "collapsed": false,
    "ExecuteTime": {
     "end_time": "2023-08-11T14:15:53.109468600Z",
     "start_time": "2023-08-11T14:15:53.048683600Z"
    }
   }
  },
  {
   "cell_type": "code",
   "execution_count": 28,
   "outputs": [
    {
     "name": "stdout",
     "output_type": "stream",
     "text": [
      "brand ford\n",
      "electric False\n",
      "year 2343\n",
      "color ['red', 'blue', 'green']\n"
     ]
    }
   ],
   "source": [
    "thcar={\n",
    "    \"brand\":\"ford\",\n",
    "    \"electric\":False,\n",
    "    \"year\":2343,\n",
    "    \"color\":['red','blue','green']\n",
    "}\n",
    "for x,y in thcar.items():\n",
    "    print(x,y)"
   ],
   "metadata": {
    "collapsed": false,
    "ExecuteTime": {
     "end_time": "2023-08-11T14:16:18.739485400Z",
     "start_time": "2023-08-11T14:16:18.643742700Z"
    }
   }
  },
  {
   "cell_type": "code",
   "execution_count": 29,
   "outputs": [
    {
     "name": "stdout",
     "output_type": "stream",
     "text": [
      "brand\n",
      "electric\n",
      "year\n",
      "color\n"
     ]
    }
   ],
   "source": [
    "thcar={\n",
    "    \"brand\":\"ford\",\n",
    "    \"electric\":False,\n",
    "    \"year\":2343,\n",
    "    \"color\":['red','blue','green']\n",
    "}\n",
    "for x in thcar.keys():\n",
    "    print(x)"
   ],
   "metadata": {
    "collapsed": false,
    "ExecuteTime": {
     "end_time": "2023-08-11T14:16:38.447079200Z",
     "start_time": "2023-08-11T14:16:38.380710400Z"
    }
   }
  },
  {
   "cell_type": "code",
   "execution_count": 30,
   "outputs": [
    {
     "name": "stdout",
     "output_type": "stream",
     "text": [
      "ford\n",
      "False\n",
      "2343\n",
      "['red', 'blue', 'green']\n"
     ]
    }
   ],
   "source": [
    "thcar={\n",
    "    \"brand\":\"ford\",\n",
    "    \"electric\":False,\n",
    "    \"year\":2343,\n",
    "    \"color\":['red','blue','green']\n",
    "}\n",
    "for x in thcar.values():\n",
    "    print(x)"
   ],
   "metadata": {
    "collapsed": false,
    "ExecuteTime": {
     "end_time": "2023-08-11T14:16:58.143829500Z",
     "start_time": "2023-08-11T14:16:58.083892Z"
    }
   }
  },
  {
   "cell_type": "code",
   "execution_count": 31,
   "outputs": [
    {
     "name": "stdout",
     "output_type": "stream",
     "text": [
      "{'brand': 'ford', 'electric': False, 'year': 2343, 'color': ['red', 'blue', 'green']}\n"
     ]
    }
   ],
   "source": [
    "thcar={\n",
    "    \"brand\":\"ford\",\n",
    "    \"electric\":False,\n",
    "    \"year\":2343,\n",
    "    \"color\":['red','blue','green']\n",
    "}\n",
    "mydict = dict(thcar)\n",
    "print(mydict)"
   ],
   "metadata": {
    "collapsed": false,
    "ExecuteTime": {
     "end_time": "2023-08-11T14:17:53.219722900Z",
     "start_time": "2023-08-11T14:17:53.104922Z"
    }
   }
  },
  {
   "cell_type": "code",
   "execution_count": 32,
   "outputs": [
    {
     "name": "stdout",
     "output_type": "stream",
     "text": [
      "['brand', 'electric', 'year', 'color']\n"
     ]
    }
   ],
   "source": [
    "thcar={\n",
    "    \"brand\":\"ford\",\n",
    "    \"electric\":False,\n",
    "    \"year\":2343,\n",
    "    \"color\":['red','blue','green']\n",
    "}\n",
    "myli = list(thcar)\n",
    "print(myli)"
   ],
   "metadata": {
    "collapsed": false,
    "ExecuteTime": {
     "end_time": "2023-08-11T14:18:47.470376600Z",
     "start_time": "2023-08-11T14:18:47.382665400Z"
    }
   }
  },
  {
   "cell_type": "code",
   "execution_count": 33,
   "outputs": [
    {
     "name": "stdout",
     "output_type": "stream",
     "text": [
      "{'brand': 'ford', 'electric': False, 'year': 2343, 'color': ['red', 'blue', 'green']}\n"
     ]
    }
   ],
   "source": [
    "thcar={\n",
    "    \"brand\":\"ford\",\n",
    "    \"electric\":False,\n",
    "    \"year\":2343,\n",
    "    \"color\":['red','blue','green']\n",
    "}\n",
    "mydict = thcar.copy()\n",
    "print(mydict)"
   ],
   "metadata": {
    "collapsed": false,
    "ExecuteTime": {
     "end_time": "2023-08-11T14:19:15.435802100Z",
     "start_time": "2023-08-11T14:19:15.343393400Z"
    }
   }
  },
  {
   "cell_type": "code",
   "execution_count": 36,
   "outputs": [
    {
     "name": "stdout",
     "output_type": "stream",
     "text": [
      "hehe\n"
     ]
    }
   ],
   "source": [
    "lst = ['heelo','hehe']\n",
    "print(lst.pop())"
   ],
   "metadata": {
    "collapsed": false,
    "ExecuteTime": {
     "end_time": "2023-08-11T14:20:23.922552Z",
     "start_time": "2023-08-11T14:20:23.891617400Z"
    }
   }
  },
  {
   "cell_type": "code",
   "execution_count": 37,
   "outputs": [
    {
     "name": "stdout",
     "output_type": "stream",
     "text": [
      "A is greater than B\n"
     ]
    }
   ],
   "source": [
    "a = 200\n",
    "b = 50\n",
    "if a > b:\n",
    "    print(\"A is greater than B\")"
   ],
   "metadata": {
    "collapsed": false,
    "ExecuteTime": {
     "end_time": "2023-08-11T14:27:57.750689500Z",
     "start_time": "2023-08-11T14:27:57.627469400Z"
    }
   }
  },
  {
   "cell_type": "code",
   "execution_count": 38,
   "outputs": [
    {
     "name": "stdout",
     "output_type": "stream",
     "text": [
      "a is equal to B\n"
     ]
    }
   ],
   "source": [
    "a = 100\n",
    "b = 100\n",
    "if a > b:\n",
    "    print(\"A is greater than b\")\n",
    "elif a == b:\n",
    "    print(\"a is equal to B\")"
   ],
   "metadata": {
    "collapsed": false,
    "ExecuteTime": {
     "end_time": "2023-08-11T14:28:53.801590700Z",
     "start_time": "2023-08-11T14:28:53.700323Z"
    }
   }
  },
  {
   "cell_type": "code",
   "execution_count": 40,
   "outputs": [
    {
     "name": "stdout",
     "output_type": "stream",
     "text": [
      "B is greater than a\n"
     ]
    }
   ],
   "source": [
    "a = 1\n",
    "b = 23\n",
    "if a>b:\n",
    "    print(\"A is greater than b\")\n",
    "elif a==b:\n",
    "    print(\"A is euqal to B\")\n",
    "else:\n",
    "    print(\"B is greater than a\")"
   ],
   "metadata": {
    "collapsed": false,
    "ExecuteTime": {
     "end_time": "2023-08-11T14:30:14.562617800Z",
     "start_time": "2023-08-11T14:30:14.513750Z"
    }
   }
  },
  {
   "cell_type": "code",
   "execution_count": 42,
   "outputs": [
    {
     "name": "stdout",
     "output_type": "stream",
     "text": [
      "200\n"
     ]
    }
   ],
   "source": [
    "a = 200\n",
    "b = 50\n",
    "print(a) if a >b else print(b)"
   ],
   "metadata": {
    "collapsed": false,
    "ExecuteTime": {
     "end_time": "2023-08-11T14:32:32.629007800Z",
     "start_time": "2023-08-11T14:32:32.414536300Z"
    }
   }
  },
  {
   "cell_type": "code",
   "execution_count": 43,
   "outputs": [
    {
     "name": "stdout",
     "output_type": "stream",
     "text": [
      "20\n"
     ]
    }
   ],
   "source": [
    "a = 20\n",
    "b =4\n",
    "if a>b:print(a)"
   ],
   "metadata": {
    "collapsed": false,
    "ExecuteTime": {
     "end_time": "2023-08-11T14:32:56.632506500Z",
     "start_time": "2023-08-11T14:32:56.405090400Z"
    }
   }
  },
  {
   "cell_type": "code",
   "execution_count": 46,
   "outputs": [
    {
     "name": "stdout",
     "output_type": "stream",
     "text": [
      "b>a\n"
     ]
    }
   ],
   "source": [
    "a = 1\n",
    "b = 2\n",
    "print(\"a>b\") if a>b else print(\"=\") if a==b else print(\"b>a\")"
   ],
   "metadata": {
    "collapsed": false,
    "ExecuteTime": {
     "end_time": "2023-08-11T14:35:18.386211300Z",
     "start_time": "2023-08-11T14:35:18.140363600Z"
    }
   }
  },
  {
   "cell_type": "code",
   "execution_count": 47,
   "outputs": [
    {
     "name": "stdout",
     "output_type": "stream",
     "text": [
      "wow\n"
     ]
    }
   ],
   "source": [
    "a = 44\n",
    "b = 34\n",
    "c = 343\n",
    "if a > b and b<c:\n",
    "    print(\"wow\")"
   ],
   "metadata": {
    "collapsed": false,
    "ExecuteTime": {
     "end_time": "2023-08-11T14:36:17.766840400Z",
     "start_time": "2023-08-11T14:36:17.548108900Z"
    }
   }
  },
  {
   "cell_type": "code",
   "execution_count": 50,
   "outputs": [],
   "source": [
    "a = 0\n",
    "b = 1\n",
    "if not a < b:\n",
    "    print(\"no\")"
   ],
   "metadata": {
    "collapsed": false,
    "ExecuteTime": {
     "end_time": "2023-08-11T14:37:23.522350600Z",
     "start_time": "2023-08-11T14:37:23.426170Z"
    }
   }
  },
  {
   "cell_type": "code",
   "execution_count": 51,
   "outputs": [],
   "source": [
    "a = 20\n",
    "b = 1\n",
    "if a > b:\n",
    "    pass"
   ],
   "metadata": {
    "collapsed": false,
    "ExecuteTime": {
     "end_time": "2023-08-11T14:37:49.409974500Z",
     "start_time": "2023-08-11T14:37:49.277040900Z"
    }
   }
  },
  {
   "cell_type": "markdown",
   "source": [
    "# Python Loops\n"
   ],
   "metadata": {
    "collapsed": false
   }
  },
  {
   "cell_type": "code",
   "execution_count": 54,
   "outputs": [
    {
     "name": "stdout",
     "output_type": "stream",
     "text": [
      "1\n",
      "2\n",
      "3\n",
      "4\n",
      "5\n",
      "6\n",
      "7\n",
      "8\n",
      "9\n",
      "process finens\n"
     ]
    }
   ],
   "source": [
    "i = 1\n",
    "while i<10:\n",
    "    print(i)\n",
    "    i=i+1\n",
    "else:\n",
    "    print(\"process finens\")"
   ],
   "metadata": {
    "collapsed": false,
    "ExecuteTime": {
     "end_time": "2023-08-11T16:02:06.871115400Z",
     "start_time": "2023-08-11T16:02:06.797995700Z"
    }
   }
  },
  {
   "cell_type": "code",
   "execution_count": 53,
   "outputs": [
    {
     "name": "stdout",
     "output_type": "stream",
     "text": [
      "1\n",
      "2\n",
      "3\n"
     ]
    }
   ],
   "source": [
    "i = 1\n",
    "while i<10:\n",
    "    print(i)\n",
    "    if i==3: break\n",
    "    i=i+1"
   ],
   "metadata": {
    "collapsed": false,
    "ExecuteTime": {
     "end_time": "2023-08-11T15:58:53.433754900Z",
     "start_time": "2023-08-11T15:58:53.256281100Z"
    }
   }
  },
  {
   "cell_type": "code",
   "execution_count": 55,
   "outputs": [
    {
     "name": "stdout",
     "output_type": "stream",
     "text": [
      "b\n",
      "a\n",
      "n\n",
      "a\n",
      "n\n",
      "a\n"
     ]
    }
   ],
   "source": [
    "for x in \"banana\":\n",
    "    print(x)"
   ],
   "metadata": {
    "collapsed": false,
    "ExecuteTime": {
     "end_time": "2023-08-11T16:05:24.273545300Z",
     "start_time": "2023-08-11T16:05:24.173664200Z"
    }
   }
  },
  {
   "cell_type": "code",
   "execution_count": 56,
   "outputs": [
    {
     "name": "stdout",
     "output_type": "stream",
     "text": [
      "hello\n",
      "hii\n",
      "apple\n"
     ]
    }
   ],
   "source": [
    "fruits = ['hello','hii','apple']\n",
    "for x in fruits:\n",
    "    print(x)"
   ],
   "metadata": {
    "collapsed": false,
    "ExecuteTime": {
     "end_time": "2023-08-11T16:05:54.096305100Z",
     "start_time": "2023-08-11T16:05:53.933946700Z"
    }
   }
  },
  {
   "cell_type": "code",
   "execution_count": 59,
   "outputs": [
    {
     "name": "stdout",
     "output_type": "stream",
     "text": [
      "hello\n",
      "apple\n"
     ]
    }
   ],
   "source": [
    "fruits = ['hello','hii','apple']\n",
    "for x in fruits:\n",
    "    if x == 'hii': continue\n",
    "    print(x)"
   ],
   "metadata": {
    "collapsed": false,
    "ExecuteTime": {
     "end_time": "2023-08-11T16:06:55.033686300Z",
     "start_time": "2023-08-11T16:06:54.970700800Z"
    }
   }
  },
  {
   "cell_type": "code",
   "execution_count": 60,
   "outputs": [
    {
     "name": "stdout",
     "output_type": "stream",
     "text": [
      "0\n",
      "1\n",
      "2\n",
      "3\n",
      "4\n"
     ]
    }
   ],
   "source": [
    "for x in range(5):\n",
    "    print(x)"
   ],
   "metadata": {
    "collapsed": false,
    "ExecuteTime": {
     "end_time": "2023-08-11T16:07:15.350928900Z",
     "start_time": "2023-08-11T16:07:15.173618300Z"
    }
   }
  },
  {
   "cell_type": "code",
   "execution_count": 61,
   "outputs": [
    {
     "name": "stdout",
     "output_type": "stream",
     "text": [
      "2\n",
      "3\n",
      "4\n",
      "5\n"
     ]
    }
   ],
   "source": [
    "for x in range(2,6):\n",
    "    print(x)"
   ],
   "metadata": {
    "collapsed": false,
    "ExecuteTime": {
     "end_time": "2023-08-11T16:07:56.662995300Z",
     "start_time": "2023-08-11T16:07:56.570503500Z"
    }
   }
  },
  {
   "cell_type": "code",
   "execution_count": 62,
   "outputs": [
    {
     "name": "stdout",
     "output_type": "stream",
     "text": [
      "2\n",
      "5\n",
      "8\n",
      "11\n",
      "14\n",
      "17\n",
      "20\n",
      "23\n",
      "26\n",
      "29\n"
     ]
    }
   ],
   "source": [
    "for x in range(2,30,3):\n",
    "    print(x)"
   ],
   "metadata": {
    "collapsed": false,
    "ExecuteTime": {
     "end_time": "2023-08-11T16:08:14.939092300Z",
     "start_time": "2023-08-11T16:08:14.796382600Z"
    }
   }
  },
  {
   "cell_type": "code",
   "execution_count": 63,
   "outputs": [
    {
     "name": "stdout",
     "output_type": "stream",
     "text": [
      "0\n",
      "1\n",
      "2\n",
      "3\n",
      "4\n",
      "Prcesc fineshed\n"
     ]
    }
   ],
   "source": [
    "for x in range(5):\n",
    "    print(x)\n",
    "else:\n",
    "    print(\"Prcesc fineshed\")"
   ],
   "metadata": {
    "collapsed": false,
    "ExecuteTime": {
     "end_time": "2023-08-11T16:08:50.402627900Z",
     "start_time": "2023-08-11T16:08:50.309600100Z"
    }
   }
  },
  {
   "cell_type": "code",
   "execution_count": 65,
   "outputs": [
    {
     "name": "stdout",
     "output_type": "stream",
     "text": [
      "23\n",
      "53\n",
      "33\n"
     ]
    }
   ],
   "source": [
    "for x in [23,53,33]:\n",
    "    print(x)"
   ],
   "metadata": {
    "collapsed": false,
    "ExecuteTime": {
     "end_time": "2023-08-11T16:10:08.883864Z",
     "start_time": "2023-08-11T16:10:08.702125300Z"
    }
   }
  },
  {
   "cell_type": "code",
   "execution_count": 66,
   "outputs": [
    {
     "name": "stdout",
     "output_type": "stream",
     "text": [
      "fruits dfd\n",
      "fruits dfdf\n",
      "hdfd dfd\n",
      "hdfd dfdf\n",
      "dhf dfd\n",
      "dhf dfdf\n"
     ]
    }
   ],
   "source": [
    "adj = ['fruits','hdfd','dhf']\n",
    "fdd = ['dfd','dfdf']\n",
    "for x in adj:\n",
    "    for y in fdd:\n",
    "        print(x,y)"
   ],
   "metadata": {
    "collapsed": false,
    "ExecuteTime": {
     "end_time": "2023-08-11T16:11:04.811658400Z",
     "start_time": "2023-08-11T16:11:04.724298200Z"
    }
   }
  },
  {
   "cell_type": "code",
   "execution_count": 73,
   "outputs": [
    {
     "data": {
      "text/plain": "[3,\n 4,\n 4,\n 5,\n 5,\n 5,\n 6,\n 6,\n 6,\n 6,\n 7,\n 7,\n 7,\n 7,\n 7,\n 8,\n 8,\n 8,\n 8,\n 8,\n 8,\n 9,\n 9,\n 9,\n 9,\n 9,\n 9,\n 9,\n 10,\n 10,\n 10,\n 10,\n 10,\n 10,\n 10,\n 10,\n 11,\n 11,\n 11,\n 11,\n 11,\n 11,\n 11,\n 11,\n 11,\n 12,\n 12,\n 12,\n 12,\n 12,\n 12,\n 12,\n 12,\n 12,\n 12,\n 13,\n 13,\n 13,\n 13,\n 13,\n 13,\n 13,\n 13,\n 13,\n 13,\n 13,\n 14,\n 14,\n 14,\n 14,\n 14,\n 14,\n 14,\n 14,\n 14,\n 14,\n 14,\n 14,\n 15,\n 15,\n 15,\n 15,\n 15,\n 15,\n 15,\n 15,\n 15,\n 15,\n 15,\n 15,\n 15,\n 16,\n 16,\n 16,\n 16,\n 16,\n 16,\n 16,\n 16,\n 16,\n 16,\n 16,\n 16,\n 16,\n 16,\n 17,\n 17,\n 17,\n 17,\n 17,\n 17,\n 17,\n 17,\n 17,\n 17,\n 17,\n 17,\n 17,\n 17,\n 17,\n 18,\n 18,\n 18,\n 18,\n 18,\n 18,\n 18,\n 18,\n 18,\n 18,\n 18,\n 18,\n 18,\n 18,\n 18,\n 18,\n 19,\n 19,\n 19,\n 19,\n 19,\n 19,\n 19,\n 19,\n 19,\n 19,\n 19,\n 19,\n 19,\n 19,\n 19,\n 19,\n 19,\n 20,\n 20,\n 20,\n 20,\n 20,\n 20,\n 20,\n 20,\n 20,\n 20,\n 20,\n 20,\n 20,\n 20,\n 20,\n 20,\n 20,\n 20,\n 21,\n 21,\n 21,\n 21,\n 21,\n 21,\n 21,\n 21,\n 21,\n 21,\n 21,\n 21,\n 21,\n 21,\n 21,\n 21,\n 21,\n 21,\n 21,\n 22,\n 22,\n 22,\n 22,\n 22,\n 22,\n 22,\n 22,\n 22,\n 22,\n 22,\n 22,\n 22,\n 22,\n 22,\n 22,\n 22,\n 22,\n 22,\n 22,\n 23,\n 23,\n 23,\n 23,\n 23,\n 23,\n 23,\n 23,\n 23,\n 23,\n 23,\n 23,\n 23,\n 23,\n 23,\n 23,\n 23,\n 23,\n 23,\n 23,\n 23,\n 24,\n 24,\n 24,\n 24,\n 24,\n 24,\n 24,\n 24,\n 24,\n 24,\n 24,\n 24,\n 24,\n 24,\n 24,\n 24,\n 24,\n 24,\n 24,\n 24,\n 24,\n 24,\n 25,\n 25,\n 25,\n 25,\n 25,\n 25,\n 25,\n 25,\n 25,\n 25,\n 25,\n 25,\n 25,\n 25,\n 25,\n 25,\n 25,\n 25,\n 25,\n 25,\n 25,\n 25,\n 25,\n 26,\n 26,\n 26,\n 26,\n 26,\n 26,\n 26,\n 26,\n 26,\n 26,\n 26,\n 26,\n 26,\n 26,\n 26,\n 26,\n 26,\n 26,\n 26,\n 26,\n 26,\n 26,\n 26,\n 26,\n 27,\n 27,\n 27,\n 27,\n 27,\n 27,\n 27,\n 27,\n 27,\n 27,\n 27,\n 27,\n 27,\n 27,\n 27,\n 27,\n 27,\n 27,\n 27,\n 27,\n 27,\n 27,\n 27,\n 27,\n 27,\n 28,\n 28,\n 28,\n 28,\n 28,\n 28,\n 28,\n 28,\n 28,\n 28,\n 28,\n 28,\n 28,\n 28,\n 28,\n 28,\n 28,\n 28,\n 28,\n 28,\n 28,\n 28,\n 28,\n 28,\n 28,\n 28,\n 29,\n 29,\n 29,\n 29,\n 29,\n 29,\n 29,\n 29,\n 29,\n 29,\n 29,\n 29,\n 29,\n 29,\n 29,\n 29,\n 29,\n 29,\n 29,\n 29,\n 29,\n 29,\n 29,\n 29,\n 29,\n 29,\n 29,\n 30,\n 30,\n 30,\n 30,\n 30,\n 30,\n 30,\n 30,\n 30,\n 30,\n 30,\n 30,\n 30,\n 30,\n 30,\n 30,\n 30,\n 30,\n 30,\n 30,\n 30,\n 30,\n 30,\n 30,\n 30,\n 30,\n 30,\n 30,\n 31,\n 31,\n 31,\n 31,\n 31,\n 31,\n 31,\n 31,\n 31,\n 31,\n 31,\n 31,\n 31,\n 31,\n 31,\n 31,\n 31,\n 31,\n 31,\n 31,\n 31,\n 31,\n 31,\n 31,\n 31,\n 31,\n 31,\n 31,\n 31,\n 32,\n 32,\n 32,\n 32,\n 32,\n 32,\n 32,\n 32,\n 32,\n 32,\n 32,\n 32,\n 32,\n 32,\n 32,\n 32,\n 32,\n 32,\n 32,\n 32,\n 32,\n 32,\n 32,\n 32,\n 32,\n 32,\n 32,\n 32,\n 32,\n 32,\n 33,\n 33,\n 33,\n 33,\n 33,\n 33,\n 33,\n 33,\n 33,\n 33,\n 33,\n 33,\n 33,\n 33,\n 33,\n 33,\n 33,\n 33,\n 33,\n 33,\n 33,\n 33,\n 33,\n 33,\n 33,\n 33,\n 33,\n 33,\n 33,\n 33,\n 33,\n 34,\n 34,\n 34,\n 34,\n 34,\n 34,\n 34,\n 34,\n 34,\n 34,\n 34,\n 34,\n 34,\n 34,\n 34,\n 34,\n 34,\n 34,\n 34,\n 34,\n 34,\n 34,\n 34,\n 34,\n 34,\n 34,\n 34,\n 34,\n 34,\n 34,\n 34,\n 34,\n 35,\n 35,\n 35,\n 35,\n 35,\n 35,\n 35,\n 35,\n 35,\n 35,\n 35,\n 35,\n 35,\n 35,\n 35,\n 35,\n 35,\n 35,\n 35,\n 35,\n 35,\n 35,\n 35,\n 35,\n 35,\n 35,\n 35,\n 35,\n 35,\n 35,\n 35,\n 35,\n 35,\n 36,\n 36,\n 36,\n 36,\n 36,\n 36,\n 36,\n 36,\n 36,\n 36,\n 36,\n 36,\n 36,\n 36,\n 36,\n 36,\n 36,\n 36,\n 36,\n 36,\n 36,\n 36,\n 36,\n 36,\n 36,\n 36,\n 36,\n 36,\n 36,\n 36,\n 36,\n 36,\n 36,\n 36,\n 37,\n 37,\n 37,\n 37,\n 37,\n 37,\n 37,\n 37,\n 37,\n 37,\n 37,\n 37,\n 37,\n 37,\n 37,\n 37,\n 37,\n 37,\n 37,\n 37,\n 37,\n 37,\n 37,\n 37,\n 37,\n 37,\n 37,\n 37,\n 37,\n 37,\n 37,\n 37,\n 37,\n 37,\n 37,\n 38,\n 38,\n 38,\n 38,\n 38,\n 38,\n 38,\n 38,\n 38,\n 38,\n 38,\n 38,\n 38,\n 38,\n 38,\n 38,\n 38,\n 38,\n 38,\n 38,\n 38,\n 38,\n 38,\n 38,\n 38,\n 38,\n 38,\n 38,\n 38,\n 38,\n 38,\n 38,\n 38,\n 38,\n 38,\n 38,\n 39,\n 39,\n 39,\n 39,\n 39,\n 39,\n 39,\n 39,\n 39,\n 39,\n 39,\n 39,\n 39,\n 39,\n 39,\n 39,\n 39,\n 39,\n 39,\n 39,\n 39,\n 39,\n 39,\n 39,\n 39,\n 39,\n 39,\n 39,\n 39,\n 39,\n 39,\n 39,\n 39,\n 39,\n 39,\n 39,\n 39,\n 40,\n 40,\n 40,\n 40,\n 40,\n 40,\n 40,\n 40,\n 40,\n 40,\n 40,\n 40,\n 40,\n 40,\n 40,\n 40,\n 40,\n 40,\n 40,\n 40,\n 40,\n 40,\n 40,\n 40,\n 40,\n 40,\n 40,\n 40,\n 40,\n 40,\n 40,\n 40,\n 40,\n 40,\n 40,\n 40,\n 40,\n 40,\n 41,\n 41,\n 41,\n 41,\n 41,\n 41,\n 41,\n 41,\n 41,\n 41,\n 41,\n 41,\n 41,\n 41,\n 41,\n 41,\n 41,\n 41,\n 41,\n 41,\n 41,\n 41,\n 41,\n 41,\n 41,\n 41,\n 41,\n 41,\n 41,\n 41,\n 41,\n 41,\n 41,\n 41,\n 41,\n 41,\n 41,\n 41,\n 41,\n 42,\n 42,\n 42,\n 42,\n 42,\n 42,\n 42,\n 42,\n 42,\n 42,\n 42,\n 42,\n 42,\n 42,\n 42,\n 42,\n 42,\n 42,\n 42,\n 42,\n 42,\n 42,\n 42,\n 42,\n 42,\n 42,\n 42,\n 42,\n 42,\n 42,\n 42,\n 42,\n 42,\n 42,\n 42,\n 42,\n 42,\n 42,\n 42,\n 42,\n 43,\n 43,\n 43,\n 43,\n 43,\n 43,\n 43,\n 43,\n 43,\n 43,\n 43,\n 43,\n 43,\n 43,\n 43,\n 43,\n 43,\n 43,\n 43,\n 43,\n 43,\n 43,\n 43,\n 43,\n 43,\n 43,\n 43,\n 43,\n 43,\n 43,\n 43,\n 43,\n 43,\n 43,\n 43,\n 43,\n 43,\n 43,\n 43,\n 43,\n 43,\n 44,\n 44,\n 44,\n 44,\n 44,\n 44,\n 44,\n 44,\n 44,\n 44,\n 44,\n 44,\n 44,\n 44,\n 44,\n 44,\n 44,\n 44,\n 44,\n 44,\n 44,\n 44,\n 44,\n 44,\n 44,\n 44,\n 44,\n 44,\n 44,\n 44,\n 44,\n 44,\n 44,\n 44,\n 44,\n 44,\n 44,\n 44,\n 44,\n 44,\n 44,\n 44,\n 45,\n 45,\n 45,\n 45,\n 45,\n 45,\n 45,\n 45,\n 45,\n 45,\n 45,\n 45,\n 45,\n 45,\n 45,\n 45,\n 45,\n 45,\n 45,\n 45,\n 45,\n 45,\n 45,\n 45,\n 45,\n 45,\n 45,\n 45,\n 45,\n 45,\n 45,\n 45,\n 45,\n 45,\n 45,\n 45,\n 45,\n 45,\n 45,\n 45,\n 45,\n 45,\n 45,\n 46,\n 46,\n 46,\n 46,\n 46,\n 46,\n 46,\n 46,\n 46,\n 46,\n 46,\n 46,\n 46,\n 46,\n 46,\n 46,\n 46,\n 46,\n 46,\n 46,\n 46,\n 46,\n 46,\n 46,\n 46,\n 46,\n 46,\n 46,\n 46,\n 46,\n 46,\n 46,\n 46,\n 46,\n 46,\n 46,\n 46,\n 46,\n 46,\n 46,\n 46,\n 46,\n 46,\n 46,\n 47,\n 47,\n 47,\n 47,\n 47,\n 47,\n 47,\n 47,\n 47,\n 47,\n ...]"
     },
     "execution_count": 73,
     "metadata": {},
     "output_type": "execute_result"
    }
   ],
   "source": [
    "\n",
    "lst"
   ],
   "metadata": {
    "collapsed": false,
    "ExecuteTime": {
     "end_time": "2023-08-11T16:14:49.307474900Z",
     "start_time": "2023-08-11T16:14:49.200569500Z"
    }
   }
  },
  {
   "cell_type": "markdown",
   "source": [
    "# Functions"
   ],
   "metadata": {
    "collapsed": false
   }
  },
  {
   "cell_type": "code",
   "execution_count": 1,
   "outputs": [
    {
     "name": "stdout",
     "output_type": "stream",
     "text": [
      "Hello world\n"
     ]
    }
   ],
   "source": [
    "def myfunc():\n",
    "    print(\"Hello world\")\n",
    "myfunc()"
   ],
   "metadata": {
    "collapsed": false,
    "ExecuteTime": {
     "end_time": "2023-08-12T13:14:47.407310500Z",
     "start_time": "2023-08-12T13:14:47.377933Z"
    }
   }
  },
  {
   "cell_type": "code",
   "execution_count": 3,
   "outputs": [
    {
     "name": "stdout",
     "output_type": "stream",
     "text": [
      "tushar Hello\n"
     ]
    }
   ],
   "source": [
    "def myfunc(ename):\n",
    "    print(ename + \" Hello\")\n",
    "myfunc(\"tushar\")"
   ],
   "metadata": {
    "collapsed": false,
    "ExecuteTime": {
     "end_time": "2023-08-12T13:16:02.453643800Z",
     "start_time": "2023-08-12T13:16:02.412160Z"
    }
   }
  },
  {
   "cell_type": "code",
   "execution_count": 4,
   "outputs": [
    {
     "name": "stdout",
     "output_type": "stream",
     "text": [
      "[1, 3, 5, 3]\n"
     ]
    }
   ],
   "source": [
    "def myfunc(ename):\n",
    "    print(ename)\n",
    "lst = [1,3,5,3]\n",
    "myfunc(lst)"
   ],
   "metadata": {
    "collapsed": false,
    "ExecuteTime": {
     "end_time": "2023-08-12T13:17:47.860730Z",
     "start_time": "2023-08-12T13:17:47.777891100Z"
    }
   }
  },
  {
   "cell_type": "code",
   "execution_count": 5,
   "outputs": [
    {
     "name": "stdout",
     "output_type": "stream",
     "text": [
      "ename hafd\n"
     ]
    }
   ],
   "source": [
    "def myfunc(ename,name):\n",
    "    print(ename , name)\n",
    "myfunc(\"ename\",'hafd')"
   ],
   "metadata": {
    "collapsed": false,
    "ExecuteTime": {
     "end_time": "2023-08-12T13:18:33.416916500Z",
     "start_time": "2023-08-12T13:18:33.348100200Z"
    }
   }
  },
  {
   "cell_type": "code",
   "execution_count": 7,
   "outputs": [
    {
     "name": "stdout",
     "output_type": "stream",
     "text": [
      "The youngest child is Linus\n"
     ]
    }
   ],
   "source": [
    "def my_function(*kids):\n",
    "  print(\"The youngest child is \" + kids[2])\n",
    "\n",
    "my_function(\"Emil\", \"Tobias\", \"Linus\")"
   ],
   "metadata": {
    "collapsed": false,
    "ExecuteTime": {
     "end_time": "2023-08-12T13:20:14.403514200Z",
     "start_time": "2023-08-12T13:20:14.367186400Z"
    }
   }
  },
  {
   "cell_type": "code",
   "execution_count": 8,
   "outputs": [
    {
     "name": "stdout",
     "output_type": "stream",
     "text": [
      "My country is norway\n",
      "My country is swadin\n"
     ]
    }
   ],
   "source": [
    "def my_cont(country=\"norway\"):\n",
    "    print(\"My country is \"+country)\n",
    "my_cont()\n",
    "my_cont(\"swadin\")"
   ],
   "metadata": {
    "collapsed": false,
    "ExecuteTime": {
     "end_time": "2023-08-12T13:22:14.273507900Z",
     "start_time": "2023-08-12T13:22:14.159981100Z"
    }
   }
  },
  {
   "cell_type": "code",
   "execution_count": 9,
   "outputs": [
    {
     "name": "stdout",
     "output_type": "stream",
     "text": [
      "2\n",
      "3\n",
      "4\n",
      "3\n"
     ]
    }
   ],
   "source": [
    "def my_lst(lst):\n",
    "    for x in lst:\n",
    "        print(x)\n",
    "lst = [2,3,4,3]\n",
    "my_lst(lst)"
   ],
   "metadata": {
    "collapsed": false,
    "ExecuteTime": {
     "end_time": "2023-08-12T13:23:20.252358800Z",
     "start_time": "2023-08-12T13:23:20.157080900Z"
    }
   }
  },
  {
   "cell_type": "code",
   "execution_count": 10,
   "outputs": [
    {
     "data": {
      "text/plain": "(15, 9)"
     },
     "execution_count": 10,
     "metadata": {},
     "output_type": "execute_result"
    }
   ],
   "source": [
    "def myfunc(n):\n",
    "    return n*5 , n*3\n",
    "myfunc(3)"
   ],
   "metadata": {
    "collapsed": false,
    "ExecuteTime": {
     "end_time": "2023-08-12T13:24:42.763421800Z",
     "start_time": "2023-08-12T13:24:42.653714800Z"
    }
   }
  },
  {
   "cell_type": "code",
   "execution_count": 13,
   "outputs": [
    {
     "data": {
      "text/plain": "120"
     },
     "execution_count": 13,
     "metadata": {},
     "output_type": "execute_result"
    }
   ],
   "source": [
    "def fact(n):\n",
    "    if n==1 or n==0:\n",
    "        return 1\n",
    "    else:\n",
    "        return n*fact(n-1)\n",
    "fact(5)"
   ],
   "metadata": {
    "collapsed": false,
    "ExecuteTime": {
     "end_time": "2023-08-12T13:26:33.541070900Z",
     "start_time": "2023-08-12T13:26:33.496475800Z"
    }
   }
  },
  {
   "cell_type": "code",
   "execution_count": 15,
   "outputs": [
    {
     "data": {
      "text/plain": "8"
     },
     "execution_count": 15,
     "metadata": {},
     "output_type": "execute_result"
    }
   ],
   "source": [
    "def fabo(n):\n",
    "    if n==0 or n==1:\n",
    "        return 1\n",
    "    else:\n",
    "        return fabo(n-1)+fabo(n-2)\n",
    "fabo(5)"
   ],
   "metadata": {
    "collapsed": false,
    "ExecuteTime": {
     "end_time": "2023-08-12T13:29:40.388850400Z",
     "start_time": "2023-08-12T13:29:40.342971600Z"
    }
   }
  },
  {
   "cell_type": "code",
   "execution_count": 24,
   "outputs": [
    {
     "data": {
      "text/plain": "[2, 3, 4, 5, 6, 7]"
     },
     "execution_count": 24,
     "metadata": {},
     "output_type": "execute_result"
    }
   ],
   "source": [
    "lst = [2,3,2,4,4,2,4,2,6,3,6,5,7,5,7]\n",
    "\n",
    "def myfunc(lst):\n",
    "    newlst=[]\n",
    "    for x in lst:\n",
    "        if x not in newlst:\n",
    "            newlst.append(x)\n",
    "    return newlst\n",
    "newlst =  myfunc(lst)\n",
    "newlst.sort()\n",
    "newlst"
   ],
   "metadata": {
    "collapsed": false,
    "ExecuteTime": {
     "end_time": "2023-08-12T13:38:51.235470300Z",
     "start_time": "2023-08-12T13:38:51.174248700Z"
    }
   }
  },
  {
   "cell_type": "code",
   "execution_count": 25,
   "outputs": [
    {
     "name": "stdout",
     "output_type": "stream",
     "text": [
      "15\n"
     ]
    }
   ],
   "source": [
    "x = lambda a : a+10\n",
    "print(x(5))"
   ],
   "metadata": {
    "collapsed": false,
    "ExecuteTime": {
     "end_time": "2023-08-12T13:41:19.269872200Z",
     "start_time": "2023-08-12T13:41:19.152253Z"
    }
   }
  },
  {
   "cell_type": "code",
   "execution_count": 26,
   "outputs": [
    {
     "name": "stdout",
     "output_type": "stream",
     "text": [
      "12\n"
     ]
    }
   ],
   "source": [
    "x = lambda a,b : a*b\n",
    "print(x(3,4))"
   ],
   "metadata": {
    "collapsed": false,
    "ExecuteTime": {
     "end_time": "2023-08-12T13:41:58.529797900Z",
     "start_time": "2023-08-12T13:41:58.442838600Z"
    }
   }
  },
  {
   "cell_type": "code",
   "execution_count": 27,
   "outputs": [
    {
     "name": "stdout",
     "output_type": "stream",
     "text": [
      "11\n"
     ]
    }
   ],
   "source": [
    "x = lambda a,b,c:a+b+c\n",
    "print(x(2,4,5))"
   ],
   "metadata": {
    "collapsed": false,
    "ExecuteTime": {
     "end_time": "2023-08-12T13:42:16.147390800Z",
     "start_time": "2023-08-12T13:42:16.056739Z"
    }
   }
  },
  {
   "cell_type": "code",
   "execution_count": 29,
   "outputs": [
    {
     "name": "stdout",
     "output_type": "stream",
     "text": [
      "20\n"
     ]
    }
   ],
   "source": [
    "def myfunc(n):\n",
    "    return lambda a : a*n\n",
    "my = myfunc(5)\n",
    "print(my(4))"
   ],
   "metadata": {
    "collapsed": false,
    "ExecuteTime": {
     "end_time": "2023-08-12T13:44:11.654298400Z",
     "start_time": "2023-08-12T13:44:11.614403900Z"
    }
   }
  },
  {
   "cell_type": "markdown",
   "source": [
    "# Python Classes"
   ],
   "metadata": {
    "collapsed": false
   }
  },
  {
   "cell_type": "code",
   "execution_count": 31,
   "outputs": [
    {
     "name": "stdout",
     "output_type": "stream",
     "text": [
      "5\n"
     ]
    }
   ],
   "source": [
    "class Myclass:\n",
    "    x = 5\n",
    "y = Myclass()\n",
    "print(y.x)"
   ],
   "metadata": {
    "collapsed": false,
    "ExecuteTime": {
     "end_time": "2023-08-12T15:46:18.148447900Z",
     "start_time": "2023-08-12T15:46:17.970801100Z"
    }
   }
  },
  {
   "cell_type": "code",
   "execution_count": 32,
   "outputs": [
    {
     "name": "stdout",
     "output_type": "stream",
     "text": [
      "tushar\n",
      "34\n"
     ]
    }
   ],
   "source": [
    "class person:\n",
    "    def __init__(self,name,roll):\n",
    "        self.name = name\n",
    "        self.roll = roll\n",
    "\n",
    "p1 = person(\"tushar\",34)\n",
    "print(p1.name)\n",
    "print(p1.roll)"
   ],
   "metadata": {
    "collapsed": false,
    "ExecuteTime": {
     "end_time": "2023-08-12T15:48:34.316490700Z",
     "start_time": "2023-08-12T15:48:34.205495400Z"
    }
   }
  },
  {
   "cell_type": "code",
   "execution_count": 38,
   "outputs": [
    {
     "name": "stdout",
     "output_type": "stream",
     "text": [
      "John,36\n"
     ]
    }
   ],
   "source": [
    "class Person:\n",
    "  def __init__(self, name, age):\n",
    "    self.name = name\n",
    "    self.age = age\n",
    "\n",
    "  def __str__(self):\n",
    "    return f\"{self.name},{self.age}\"\n",
    "\n",
    "p1 = Person(\"John\", 36)\n",
    "\n",
    "print(p1)"
   ],
   "metadata": {
    "collapsed": false,
    "ExecuteTime": {
     "end_time": "2023-08-12T15:53:15.261171100Z",
     "start_time": "2023-08-12T15:53:15.171255500Z"
    }
   }
  },
  {
   "cell_type": "code",
   "execution_count": 43,
   "outputs": [
    {
     "name": "stdout",
     "output_type": "stream",
     "text": [
      "The roll number 34\n",
      "The name is  tushar\n"
     ]
    }
   ],
   "source": [
    "class person:\n",
    "    def __init__(self,name,roll):\n",
    "        self.name = name\n",
    "        self.roll = roll\n",
    "    def myfunc(self):\n",
    "        print(f\"The roll number {self.roll}\")\n",
    "        print(\"The name is \",self.name)\n",
    "p1 = person(\"tushar\",34)\n",
    "p1.myfunc()"
   ],
   "metadata": {
    "collapsed": false,
    "ExecuteTime": {
     "end_time": "2023-08-12T15:59:39.590940100Z",
     "start_time": "2023-08-12T15:59:39.515143600Z"
    }
   }
  },
  {
   "cell_type": "code",
   "execution_count": 44,
   "outputs": [
    {
     "name": "stdout",
     "output_type": "stream",
     "text": [
      "the roll number  34\n"
     ]
    }
   ],
   "source": [
    "class person:\n",
    "    def __init__(mysillyobject,name,roll):\n",
    "        mysillyobject.name = name\n",
    "        mysillyobject.roll = roll\n",
    "    def myfunc(abc):\n",
    "        print(\"the roll number \",abc.roll)\n",
    "p1 = person(\"john\",34)\n",
    "p1.myfunc()"
   ],
   "metadata": {
    "collapsed": false,
    "ExecuteTime": {
     "end_time": "2023-08-12T16:01:35.162948600Z",
     "start_time": "2023-08-12T16:01:35.059501800Z"
    }
   }
  },
  {
   "cell_type": "code",
   "execution_count": 48,
   "outputs": [
    {
     "name": "stdout",
     "output_type": "stream",
     "text": [
      "The roll number  34\n",
      "None\n",
      "The roll number  13\n",
      "None\n"
     ]
    }
   ],
   "source": [
    "class person:\n",
    "    def __init__(self,name,roll):\n",
    "        self.name=name\n",
    "        self.roll=roll\n",
    "    def myfunc(self):\n",
    "        print(\"The roll number \",self.roll)\n",
    "p1 = person(\"john\",34)\n",
    "print(p1.myfunc())\n",
    "p1.roll = 13\n",
    "print(p1.myfunc())\n",
    "del p1"
   ],
   "metadata": {
    "collapsed": false,
    "ExecuteTime": {
     "end_time": "2023-08-12T16:07:29.743331900Z",
     "start_time": "2023-08-12T16:07:29.501685700Z"
    }
   }
  },
  {
   "cell_type": "code",
   "execution_count": 5,
   "outputs": [
    {
     "name": "stdout",
     "output_type": "stream",
     "text": [
      "4\n"
     ]
    }
   ],
   "source": [
    "class solution:\n",
    "    def kthmaximum(self,nums,key):\n",
    "        nums.sort(reverse=True)\n",
    "        return nums[key-1]\n",
    "\n",
    "s1 = solution()\n",
    "print(s1.kthmaximum([3,2,3,1,2,4,5,5,6],4))"
   ],
   "metadata": {
    "collapsed": false,
    "ExecuteTime": {
     "end_time": "2023-08-14T15:20:18.449533300Z",
     "start_time": "2023-08-14T15:20:18.392098700Z"
    }
   }
  },
  {
   "cell_type": "code",
   "execution_count": 9,
   "outputs": [
    {
     "name": "stdout",
     "output_type": "stream",
     "text": [
      "tushar gandhi\n",
      "None\n"
     ]
    }
   ],
   "source": [
    "class person:\n",
    "    def __init__(self,fname,lname):\n",
    "        self.fname = fname\n",
    "        self.lname = lname\n",
    "    def printx(self):\n",
    "        print(self.fname , self.lname)\n",
    "\n",
    "p = person(\"tushar\",\"gandhi\")\n",
    "print(p.printx())"
   ],
   "metadata": {
    "collapsed": false,
    "ExecuteTime": {
     "end_time": "2023-08-14T15:22:47.721897800Z",
     "start_time": "2023-08-14T15:22:47.655785700Z"
    }
   }
  },
  {
   "cell_type": "code",
   "execution_count": 12,
   "outputs": [
    {
     "name": "stdout",
     "output_type": "stream",
     "text": [
      "John player\n",
      "None\n"
     ]
    }
   ],
   "source": [
    "class person:\n",
    "    def __init__(self,fname,lname):\n",
    "        self.fname = fname\n",
    "        self.lname = lname\n",
    "    def printx(self):\n",
    "        print(self.fname , self.lname)\n",
    "\n",
    "class Student(person):\n",
    "    pass\n",
    "s1 = Student(\"John\",\"player\")\n",
    "print(s1.printx())"
   ],
   "metadata": {
    "collapsed": false,
    "ExecuteTime": {
     "end_time": "2023-08-14T15:26:15.026947200Z",
     "start_time": "2023-08-14T15:26:14.962089600Z"
    }
   }
  },
  {
   "cell_type": "code",
   "execution_count": 15,
   "outputs": [
    {
     "name": "stdout",
     "output_type": "stream",
     "text": [
      "Hello\n",
      "MOto\n",
      "34\n"
     ]
    }
   ],
   "source": [
    "class person:\n",
    "    def __init__(self,fname,lname):\n",
    "        self.fname = fname\n",
    "        self.lname = lname\n",
    "    def print_person(self):\n",
    "        print(self.fname)\n",
    "        print(self.lname)\n",
    "\n",
    "class Student(person):\n",
    "    def __init__(self,fname,lname,roll):\n",
    "        person.__init__(self,fname,lname)\n",
    "        self.roll = roll\n",
    "    def print_student(self):\n",
    "        print(self.fname)\n",
    "        print(self.lname)\n",
    "        print(self.roll)\n",
    "\n",
    "s1 = Student(\"Hello\",\"MOto\",34)\n",
    "s1.print_student()"
   ],
   "metadata": {
    "collapsed": false,
    "ExecuteTime": {
     "end_time": "2023-08-14T15:31:55.608418500Z",
     "start_time": "2023-08-14T15:31:55.529009800Z"
    }
   }
  },
  {
   "cell_type": "code",
   "execution_count": 19,
   "outputs": [
    {
     "name": "stdout",
     "output_type": "stream",
     "text": [
      "john\n",
      "Kumar\n",
      "34\n"
     ]
    }
   ],
   "source": [
    "class Person:\n",
    "    def __init__(self,fname,lname):\n",
    "        self.fname = fname\n",
    "        self.lname = lname\n",
    "class Student(Person):\n",
    "    def __init__(self,fname,lname,year):\n",
    "        super().__init__(fname,lname)\n",
    "        self.year = year\n",
    "    def welcome(self):\n",
    "        print(self.fname)\n",
    "        print(self.lname)\n",
    "        print(self.year)\n",
    "\n",
    "s1 = Student(\"john\",\"Kumar\",34)\n",
    "s1.welcome()"
   ],
   "metadata": {
    "collapsed": false,
    "ExecuteTime": {
     "end_time": "2023-08-14T15:39:51.579491100Z",
     "start_time": "2023-08-14T15:39:51.538700Z"
    }
   }
  },
  {
   "cell_type": "code",
   "execution_count": 20,
   "outputs": [
    {
     "name": "stdout",
     "output_type": "stream",
     "text": [
      "apple\n",
      "banana\n"
     ]
    }
   ],
   "source": [
    "tup = (\"apple\",\"banana\",\"mango\")\n",
    "t = iter(tup)\n",
    "print(next(t))\n",
    "print(next(t))"
   ],
   "metadata": {
    "collapsed": false,
    "ExecuteTime": {
     "end_time": "2023-08-14T15:45:57.440049500Z",
     "start_time": "2023-08-14T15:45:57.278897Z"
    }
   }
  },
  {
   "cell_type": "code",
   "execution_count": 24,
   "outputs": [
    {
     "name": "stdout",
     "output_type": "stream",
     "text": [
      "run\n",
      "fly\n"
     ]
    }
   ],
   "source": [
    "class car:\n",
    "    def move(self):\n",
    "        print(\"run\")\n",
    "\n",
    "class plane:\n",
    "    def move(self):\n",
    "        print(\"fly\")\n",
    "\n",
    "car1 = car()\n",
    "plane1 = plane()\n",
    "for x in (car1,plane1):\n",
    "    x.move()"
   ],
   "metadata": {
    "collapsed": false,
    "ExecuteTime": {
     "end_time": "2023-08-14T16:01:08.648694Z",
     "start_time": "2023-08-14T16:01:08.573342100Z"
    }
   }
  },
  {
   "cell_type": "markdown",
   "source": [
    "# Python Scope"
   ],
   "metadata": {
    "collapsed": false
   }
  },
  {
   "cell_type": "code",
   "execution_count": 25,
   "outputs": [
    {
     "name": "stdout",
     "output_type": "stream",
     "text": [
      "300\n"
     ]
    }
   ],
   "source": [
    "def myfunc():\n",
    "    x =300\n",
    "    def Myinside():\n",
    "        print(x)\n",
    "    Myinside()\n",
    "myfunc()"
   ],
   "metadata": {
    "collapsed": false,
    "ExecuteTime": {
     "end_time": "2023-08-14T16:13:23.965146500Z",
     "start_time": "2023-08-14T16:13:23.863402300Z"
    }
   }
  },
  {
   "cell_type": "code",
   "execution_count": 26,
   "outputs": [
    {
     "name": "stdout",
     "output_type": "stream",
     "text": [
      "200\n"
     ]
    }
   ],
   "source": [
    "x = 300\n",
    "\n",
    "def myfunc():\n",
    "    global  x\n",
    "    x =200\n",
    "\n",
    "myfunc()\n",
    "print(x)\n"
   ],
   "metadata": {
    "collapsed": false,
    "ExecuteTime": {
     "end_time": "2023-08-14T16:15:15.497485200Z",
     "start_time": "2023-08-14T16:15:15.401833900Z"
    }
   }
  },
  {
   "cell_type": "code",
   "execution_count": 50,
   "outputs": [
    {
     "ename": "ImportError",
     "evalue": "cannot import name 'greeting' from 'MyModule' (F:\\Machine learning python\\Basics Python\\Basic Python\\MyModule.py)",
     "output_type": "error",
     "traceback": [
      "\u001B[1;31m---------------------------------------------------------------------------\u001B[0m",
      "\u001B[1;31mImportError\u001B[0m                               Traceback (most recent call last)",
      "Cell \u001B[1;32mIn[50], line 1\u001B[0m\n\u001B[1;32m----> 1\u001B[0m \u001B[38;5;28;01mfrom\u001B[39;00m \u001B[38;5;21;01mMyModule\u001B[39;00m \u001B[38;5;28;01mimport\u001B[39;00m greeting\n\u001B[0;32m      3\u001B[0m greeting(\u001B[38;5;124m\"\u001B[39m\u001B[38;5;124mJonathan\u001B[39m\u001B[38;5;124m\"\u001B[39m)\n",
      "\u001B[1;31mImportError\u001B[0m: cannot import name 'greeting' from 'MyModule' (F:\\Machine learning python\\Basics Python\\Basic Python\\MyModule.py)"
     ]
    }
   ],
   "source": [
    "from MyModule import greeting\n",
    "\n",
    "greeting(\"Jonathan\")"
   ],
   "metadata": {
    "collapsed": false,
    "ExecuteTime": {
     "end_time": "2023-08-14T16:27:09.476805800Z",
     "start_time": "2023-08-14T16:27:09.380063800Z"
    }
   }
  },
  {
   "cell_type": "code",
   "execution_count": 51,
   "outputs": [
    {
     "name": "stdout",
     "output_type": "stream",
     "text": [
      "['_Processor', '_WIN32_CLIENT_RELEASES', '_WIN32_SERVER_RELEASES', '__builtins__', '__cached__', '__copyright__', '__doc__', '__file__', '__loader__', '__name__', '__package__', '__spec__', '__version__', '_comparable_version', '_component_re', '_default_architecture', '_follow_symlinks', '_get_machine_win32', '_ironpython26_sys_version_parser', '_ironpython_sys_version_parser', '_java_getprop', '_libc_search', '_mac_ver_xml', '_node', '_norm_version', '_os_release_cache', '_os_release_candidates', '_os_release_line', '_os_release_unescape', '_parse_os_release', '_platform', '_platform_cache', '_pypy_sys_version_parser', '_sys_version', '_sys_version_cache', '_sys_version_parser', '_syscmd_file', '_syscmd_ver', '_uname_cache', '_unknown_as_blank', '_ver_output', '_ver_stages', 'architecture', 'collections', 'freedesktop_os_release', 'functools', 'itertools', 'java_ver', 'libc_ver', 'mac_ver', 'machine', 'node', 'os', 'platform', 'processor', 'python_branch', 'python_build', 'python_compiler', 'python_implementation', 'python_revision', 'python_version', 'python_version_tuple', 're', 'release', 'subprocess', 'sys', 'system', 'system_alias', 'uname', 'uname_result', 'version', 'win32_edition', 'win32_is_iot', 'win32_ver']\n"
     ]
    }
   ],
   "source": [
    "import platform\n",
    "print(dir(platform))"
   ],
   "metadata": {
    "collapsed": false,
    "ExecuteTime": {
     "end_time": "2023-08-14T16:27:43.306348900Z",
     "start_time": "2023-08-14T16:27:43.214973200Z"
    }
   }
  },
  {
   "cell_type": "code",
   "execution_count": 1,
   "outputs": [
    {
     "name": "stdout",
     "output_type": "stream",
     "text": [
      "2023-08-15 08:32:19.176171\n"
     ]
    }
   ],
   "source": [
    "import datetime\n",
    "x = datetime.datetime.now()\n",
    "print(x)"
   ],
   "metadata": {
    "collapsed": false,
    "ExecuteTime": {
     "end_time": "2023-08-15T03:02:19.219552600Z",
     "start_time": "2023-08-15T03:02:19.181595900Z"
    }
   }
  },
  {
   "cell_type": "code",
   "execution_count": 4,
   "outputs": [
    {
     "name": "stdout",
     "output_type": "stream",
     "text": [
      "2023\n",
      "Tuesday\n"
     ]
    }
   ],
   "source": [
    "import datetime\n",
    "x = datetime.datetime.now()\n",
    "print(x.year)\n",
    "print(x.strftime(\"%A\"))"
   ],
   "metadata": {
    "collapsed": false,
    "ExecuteTime": {
     "end_time": "2023-08-15T03:04:11.877283200Z",
     "start_time": "2023-08-15T03:04:11.795499800Z"
    }
   }
  },
  {
   "cell_type": "code",
   "execution_count": 6,
   "outputs": [
    {
     "name": "stdout",
     "output_type": "stream",
     "text": [
      "2020-05-14 00:00:00\n"
     ]
    }
   ],
   "source": [
    "import datetime\n",
    "x = datetime.datetime(2020,5,14)\n",
    "print(x)"
   ],
   "metadata": {
    "collapsed": false,
    "ExecuteTime": {
     "end_time": "2023-08-15T03:05:21.290518Z",
     "start_time": "2023-08-15T03:05:21.188369700Z"
    }
   }
  },
  {
   "cell_type": "markdown",
   "source": [
    "# Math Function"
   ],
   "metadata": {
    "collapsed": false
   }
  },
  {
   "cell_type": "code",
   "execution_count": 7,
   "outputs": [
    {
     "name": "stdout",
     "output_type": "stream",
     "text": [
      "32\n",
      "43\n"
     ]
    }
   ],
   "source": [
    "x = min(34,53,32)\n",
    "y = max(34,35,43)\n",
    "print(x)\n",
    "print(y)"
   ],
   "metadata": {
    "collapsed": false,
    "ExecuteTime": {
     "end_time": "2023-08-15T03:07:04.550264800Z",
     "start_time": "2023-08-15T03:07:04.445574500Z"
    }
   }
  },
  {
   "cell_type": "code",
   "execution_count": 8,
   "outputs": [
    {
     "name": "stdout",
     "output_type": "stream",
     "text": [
      "343\n"
     ]
    }
   ],
   "source": [
    "x = abs(-343)\n",
    "print(x)"
   ],
   "metadata": {
    "collapsed": false,
    "ExecuteTime": {
     "end_time": "2023-08-15T03:07:25.076576200Z",
     "start_time": "2023-08-15T03:07:24.962356500Z"
    }
   }
  },
  {
   "cell_type": "code",
   "execution_count": 9,
   "outputs": [
    {
     "name": "stdout",
     "output_type": "stream",
     "text": [
      "64\n"
     ]
    }
   ],
   "source": [
    "x = pow(4,3)\n",
    "print(x)"
   ],
   "metadata": {
    "collapsed": false,
    "ExecuteTime": {
     "end_time": "2023-08-15T03:08:04.087820300Z",
     "start_time": "2023-08-15T03:08:03.986953Z"
    }
   }
  },
  {
   "cell_type": "code",
   "execution_count": 10,
   "outputs": [
    {
     "name": "stdout",
     "output_type": "stream",
     "text": [
      "6.557438524302\n"
     ]
    }
   ],
   "source": [
    "import math\n",
    "x = math.sqrt(43)\n",
    "print(x)"
   ],
   "metadata": {
    "collapsed": false,
    "ExecuteTime": {
     "end_time": "2023-08-15T03:08:58.039908300Z",
     "start_time": "2023-08-15T03:08:57.864970300Z"
    }
   }
  },
  {
   "cell_type": "code",
   "execution_count": 11,
   "outputs": [
    {
     "name": "stdout",
     "output_type": "stream",
     "text": [
      "3\n",
      "2\n"
     ]
    }
   ],
   "source": [
    "import math\n",
    "x = math.ceil(2.34)\n",
    "y = math.floor(2.34)\n",
    "print(x)\n",
    "print(y)"
   ],
   "metadata": {
    "collapsed": false,
    "ExecuteTime": {
     "end_time": "2023-08-15T03:09:48.310047300Z",
     "start_time": "2023-08-15T03:09:48.195324400Z"
    }
   }
  },
  {
   "cell_type": "code",
   "execution_count": 12,
   "outputs": [
    {
     "name": "stdout",
     "output_type": "stream",
     "text": [
      "3.141592653589793\n"
     ]
    }
   ],
   "source": [
    "import math\n",
    "x = math.pi\n",
    "print(x)"
   ],
   "metadata": {
    "collapsed": false,
    "ExecuteTime": {
     "end_time": "2023-08-15T03:10:09.174797700Z",
     "start_time": "2023-08-15T03:10:09.029187300Z"
    }
   }
  },
  {
   "cell_type": "code",
   "execution_count": 13,
   "outputs": [
    {
     "name": "stdout",
     "output_type": "stream",
     "text": [
      "4.242640687119285\n"
     ]
    }
   ],
   "source": [
    "import math\n",
    "x = math.dist([4,3],[1,0])\n",
    "print(x)"
   ],
   "metadata": {
    "collapsed": false,
    "ExecuteTime": {
     "end_time": "2023-08-15T03:13:01.369284900Z",
     "start_time": "2023-08-15T03:13:01.138914900Z"
    }
   }
  },
  {
   "cell_type": "code",
   "execution_count": 18,
   "outputs": [
    {
     "name": "stdout",
     "output_type": "stream",
     "text": [
      "0.9816843611112658\n"
     ]
    }
   ],
   "source": [
    "import math\n",
    "x = 1 / 1 - math.exp(-4)\n",
    "print(x)"
   ],
   "metadata": {
    "collapsed": false,
    "ExecuteTime": {
     "end_time": "2023-08-15T03:15:25.114204600Z",
     "start_time": "2023-08-15T03:15:25.034641100Z"
    }
   }
  },
  {
   "cell_type": "code",
   "execution_count": 20,
   "outputs": [
    {
     "name": "stdout",
     "output_type": "stream",
     "text": [
      "4\n"
     ]
    }
   ],
   "source": [
    "import math\n",
    "x = math.gcd(12,8)\n",
    "print(x)"
   ],
   "metadata": {
    "collapsed": false,
    "ExecuteTime": {
     "end_time": "2023-08-15T03:16:00.112046100Z",
     "start_time": "2023-08-15T03:16:00.024499700Z"
    }
   }
  },
  {
   "cell_type": "code",
   "execution_count": 21,
   "outputs": [
    {
     "name": "stdout",
     "output_type": "stream",
     "text": [
      "362880\n"
     ]
    }
   ],
   "source": [
    "import math\n",
    "x = math.factorial(9)\n",
    "print(x)"
   ],
   "metadata": {
    "collapsed": false,
    "ExecuteTime": {
     "end_time": "2023-08-15T03:16:53.112730600Z",
     "start_time": "2023-08-15T03:16:52.947204400Z"
    }
   }
  },
  {
   "cell_type": "code",
   "execution_count": 22,
   "outputs": [
    {
     "name": "stdout",
     "output_type": "stream",
     "text": [
      "20.0\n"
     ]
    }
   ],
   "source": [
    "import math\n",
    "lst = [3,5,3,2,4,3]\n",
    "x = math.fsum(lst)\n",
    "print(x)"
   ],
   "metadata": {
    "collapsed": false,
    "ExecuteTime": {
     "end_time": "2023-08-15T03:17:17.116520200Z",
     "start_time": "2023-08-15T03:17:17.011613600Z"
    }
   }
  },
  {
   "cell_type": "code",
   "execution_count": 23,
   "outputs": [
    {
     "name": "stdout",
     "output_type": "stream",
     "text": [
      "2\n"
     ]
    }
   ],
   "source": [
    "import math\n",
    "print(math.isqrt(4))"
   ],
   "metadata": {
    "collapsed": false,
    "ExecuteTime": {
     "end_time": "2023-08-15T03:19:59.163725900Z",
     "start_time": "2023-08-15T03:19:59.014614400Z"
    }
   }
  },
  {
   "cell_type": "markdown",
   "source": [
    "# RegEX"
   ],
   "metadata": {
    "collapsed": false
   }
  },
  {
   "cell_type": "code",
   "execution_count": 27,
   "outputs": [
    {
     "name": "stdout",
     "output_type": "stream",
     "text": [
      "NO\n"
     ]
    }
   ],
   "source": [
    "import re\n",
    "txt = \"The rain in Spain\"\n",
    "x = re.search(\"^The.Spain$\",txt)\n",
    "if x:\n",
    "    print(\"Yes Match\")\n",
    "else:\n",
    "    print(\"NO\")"
   ],
   "metadata": {
    "collapsed": false,
    "ExecuteTime": {
     "end_time": "2023-08-15T03:27:54.964873700Z",
     "start_time": "2023-08-15T03:27:54.666080Z"
    }
   }
  },
  {
   "cell_type": "code",
   "execution_count": 39,
   "outputs": [
    {
     "ename": "error",
     "evalue": "nothing to repeat at position 0",
     "output_type": "error",
     "traceback": [
      "\u001B[1;31m---------------------------------------------------------------------------\u001B[0m",
      "\u001B[1;31merror\u001B[0m                                     Traceback (most recent call last)",
      "Cell \u001B[1;32mIn[39], line 3\u001B[0m\n\u001B[0;32m      1\u001B[0m \u001B[38;5;28;01mimport\u001B[39;00m \u001B[38;5;21;01mre\u001B[39;00m\n\u001B[0;32m      2\u001B[0m txt \u001B[38;5;241m=\u001B[39m \u001B[38;5;124m\"\u001B[39m\u001B[38;5;124mThe rain in Spain\u001B[39m\u001B[38;5;124m\"\u001B[39m\n\u001B[1;32m----> 3\u001B[0m x \u001B[38;5;241m=\u001B[39m \u001B[43mre\u001B[49m\u001B[38;5;241;43m.\u001B[39;49m\u001B[43msearch\u001B[49m\u001B[43m(\u001B[49m\u001B[38;5;124;43m\"\u001B[39;49m\u001B[38;5;124;43m*Spain$\u001B[39;49m\u001B[38;5;124;43m\"\u001B[39;49m\u001B[43m,\u001B[49m\u001B[43mtxt\u001B[49m\u001B[43m)\u001B[49m\n\u001B[0;32m      4\u001B[0m \u001B[38;5;28mprint\u001B[39m(\u001B[38;5;124m\"\u001B[39m\u001B[38;5;124mYes\u001B[39m\u001B[38;5;124m\"\u001B[39m) \u001B[38;5;28;01mif\u001B[39;00m x \u001B[38;5;28;01melse\u001B[39;00m \u001B[38;5;28mprint\u001B[39m(\u001B[38;5;124m\"\u001B[39m\u001B[38;5;124mNO\u001B[39m\u001B[38;5;124m\"\u001B[39m)\n",
      "File \u001B[1;32m~\\AppData\\Local\\Programs\\Python\\Python310\\lib\\re.py:200\u001B[0m, in \u001B[0;36msearch\u001B[1;34m(pattern, string, flags)\u001B[0m\n\u001B[0;32m    197\u001B[0m \u001B[38;5;28;01mdef\u001B[39;00m \u001B[38;5;21msearch\u001B[39m(pattern, string, flags\u001B[38;5;241m=\u001B[39m\u001B[38;5;241m0\u001B[39m):\n\u001B[0;32m    198\u001B[0m \u001B[38;5;250m    \u001B[39m\u001B[38;5;124;03m\"\"\"Scan through string looking for a match to the pattern, returning\u001B[39;00m\n\u001B[0;32m    199\u001B[0m \u001B[38;5;124;03m    a Match object, or None if no match was found.\"\"\"\u001B[39;00m\n\u001B[1;32m--> 200\u001B[0m     \u001B[38;5;28;01mreturn\u001B[39;00m \u001B[43m_compile\u001B[49m\u001B[43m(\u001B[49m\u001B[43mpattern\u001B[49m\u001B[43m,\u001B[49m\u001B[43m \u001B[49m\u001B[43mflags\u001B[49m\u001B[43m)\u001B[49m\u001B[38;5;241m.\u001B[39msearch(string)\n",
      "File \u001B[1;32m~\\AppData\\Local\\Programs\\Python\\Python310\\lib\\re.py:303\u001B[0m, in \u001B[0;36m_compile\u001B[1;34m(pattern, flags)\u001B[0m\n\u001B[0;32m    301\u001B[0m \u001B[38;5;28;01mif\u001B[39;00m \u001B[38;5;129;01mnot\u001B[39;00m sre_compile\u001B[38;5;241m.\u001B[39misstring(pattern):\n\u001B[0;32m    302\u001B[0m     \u001B[38;5;28;01mraise\u001B[39;00m \u001B[38;5;167;01mTypeError\u001B[39;00m(\u001B[38;5;124m\"\u001B[39m\u001B[38;5;124mfirst argument must be string or compiled pattern\u001B[39m\u001B[38;5;124m\"\u001B[39m)\n\u001B[1;32m--> 303\u001B[0m p \u001B[38;5;241m=\u001B[39m \u001B[43msre_compile\u001B[49m\u001B[38;5;241;43m.\u001B[39;49m\u001B[43mcompile\u001B[49m\u001B[43m(\u001B[49m\u001B[43mpattern\u001B[49m\u001B[43m,\u001B[49m\u001B[43m \u001B[49m\u001B[43mflags\u001B[49m\u001B[43m)\u001B[49m\n\u001B[0;32m    304\u001B[0m \u001B[38;5;28;01mif\u001B[39;00m \u001B[38;5;129;01mnot\u001B[39;00m (flags \u001B[38;5;241m&\u001B[39m DEBUG):\n\u001B[0;32m    305\u001B[0m     \u001B[38;5;28;01mif\u001B[39;00m \u001B[38;5;28mlen\u001B[39m(_cache) \u001B[38;5;241m>\u001B[39m\u001B[38;5;241m=\u001B[39m _MAXCACHE:\n\u001B[0;32m    306\u001B[0m         \u001B[38;5;66;03m# Drop the oldest item\u001B[39;00m\n",
      "File \u001B[1;32m~\\AppData\\Local\\Programs\\Python\\Python310\\lib\\sre_compile.py:764\u001B[0m, in \u001B[0;36mcompile\u001B[1;34m(p, flags)\u001B[0m\n\u001B[0;32m    762\u001B[0m \u001B[38;5;28;01mif\u001B[39;00m isstring(p):\n\u001B[0;32m    763\u001B[0m     pattern \u001B[38;5;241m=\u001B[39m p\n\u001B[1;32m--> 764\u001B[0m     p \u001B[38;5;241m=\u001B[39m \u001B[43msre_parse\u001B[49m\u001B[38;5;241;43m.\u001B[39;49m\u001B[43mparse\u001B[49m\u001B[43m(\u001B[49m\u001B[43mp\u001B[49m\u001B[43m,\u001B[49m\u001B[43m \u001B[49m\u001B[43mflags\u001B[49m\u001B[43m)\u001B[49m\n\u001B[0;32m    765\u001B[0m \u001B[38;5;28;01melse\u001B[39;00m:\n\u001B[0;32m    766\u001B[0m     pattern \u001B[38;5;241m=\u001B[39m \u001B[38;5;28;01mNone\u001B[39;00m\n",
      "File \u001B[1;32m~\\AppData\\Local\\Programs\\Python\\Python310\\lib\\sre_parse.py:948\u001B[0m, in \u001B[0;36mparse\u001B[1;34m(str, flags, state)\u001B[0m\n\u001B[0;32m    945\u001B[0m state\u001B[38;5;241m.\u001B[39mstr \u001B[38;5;241m=\u001B[39m \u001B[38;5;28mstr\u001B[39m\n\u001B[0;32m    947\u001B[0m \u001B[38;5;28;01mtry\u001B[39;00m:\n\u001B[1;32m--> 948\u001B[0m     p \u001B[38;5;241m=\u001B[39m \u001B[43m_parse_sub\u001B[49m\u001B[43m(\u001B[49m\u001B[43msource\u001B[49m\u001B[43m,\u001B[49m\u001B[43m \u001B[49m\u001B[43mstate\u001B[49m\u001B[43m,\u001B[49m\u001B[43m \u001B[49m\u001B[43mflags\u001B[49m\u001B[43m \u001B[49m\u001B[38;5;241;43m&\u001B[39;49m\u001B[43m \u001B[49m\u001B[43mSRE_FLAG_VERBOSE\u001B[49m\u001B[43m,\u001B[49m\u001B[43m \u001B[49m\u001B[38;5;241;43m0\u001B[39;49m\u001B[43m)\u001B[49m\n\u001B[0;32m    949\u001B[0m \u001B[38;5;28;01mexcept\u001B[39;00m Verbose:\n\u001B[0;32m    950\u001B[0m     \u001B[38;5;66;03m# the VERBOSE flag was switched on inside the pattern.  to be\u001B[39;00m\n\u001B[0;32m    951\u001B[0m     \u001B[38;5;66;03m# on the safe side, we'll parse the whole thing again...\u001B[39;00m\n\u001B[0;32m    952\u001B[0m     state \u001B[38;5;241m=\u001B[39m State()\n",
      "File \u001B[1;32m~\\AppData\\Local\\Programs\\Python\\Python310\\lib\\sre_parse.py:443\u001B[0m, in \u001B[0;36m_parse_sub\u001B[1;34m(source, state, verbose, nested)\u001B[0m\n\u001B[0;32m    441\u001B[0m start \u001B[38;5;241m=\u001B[39m source\u001B[38;5;241m.\u001B[39mtell()\n\u001B[0;32m    442\u001B[0m \u001B[38;5;28;01mwhile\u001B[39;00m \u001B[38;5;28;01mTrue\u001B[39;00m:\n\u001B[1;32m--> 443\u001B[0m     itemsappend(\u001B[43m_parse\u001B[49m\u001B[43m(\u001B[49m\u001B[43msource\u001B[49m\u001B[43m,\u001B[49m\u001B[43m \u001B[49m\u001B[43mstate\u001B[49m\u001B[43m,\u001B[49m\u001B[43m \u001B[49m\u001B[43mverbose\u001B[49m\u001B[43m,\u001B[49m\u001B[43m \u001B[49m\u001B[43mnested\u001B[49m\u001B[43m \u001B[49m\u001B[38;5;241;43m+\u001B[39;49m\u001B[43m \u001B[49m\u001B[38;5;241;43m1\u001B[39;49m\u001B[43m,\u001B[49m\n\u001B[0;32m    444\u001B[0m \u001B[43m                       \u001B[49m\u001B[38;5;129;43;01mnot\u001B[39;49;00m\u001B[43m \u001B[49m\u001B[43mnested\u001B[49m\u001B[43m \u001B[49m\u001B[38;5;129;43;01mand\u001B[39;49;00m\u001B[43m \u001B[49m\u001B[38;5;129;43;01mnot\u001B[39;49;00m\u001B[43m \u001B[49m\u001B[43mitems\u001B[49m\u001B[43m)\u001B[49m)\n\u001B[0;32m    445\u001B[0m     \u001B[38;5;28;01mif\u001B[39;00m \u001B[38;5;129;01mnot\u001B[39;00m sourcematch(\u001B[38;5;124m\"\u001B[39m\u001B[38;5;124m|\u001B[39m\u001B[38;5;124m\"\u001B[39m):\n\u001B[0;32m    446\u001B[0m         \u001B[38;5;28;01mbreak\u001B[39;00m\n",
      "File \u001B[1;32m~\\AppData\\Local\\Programs\\Python\\Python310\\lib\\sre_parse.py:668\u001B[0m, in \u001B[0;36m_parse\u001B[1;34m(source, state, verbose, nested, first)\u001B[0m\n\u001B[0;32m    666\u001B[0m     item \u001B[38;5;241m=\u001B[39m \u001B[38;5;28;01mNone\u001B[39;00m\n\u001B[0;32m    667\u001B[0m \u001B[38;5;28;01mif\u001B[39;00m \u001B[38;5;129;01mnot\u001B[39;00m item \u001B[38;5;129;01mor\u001B[39;00m item[\u001B[38;5;241m0\u001B[39m][\u001B[38;5;241m0\u001B[39m] \u001B[38;5;129;01mis\u001B[39;00m AT:\n\u001B[1;32m--> 668\u001B[0m     \u001B[38;5;28;01mraise\u001B[39;00m source\u001B[38;5;241m.\u001B[39merror(\u001B[38;5;124m\"\u001B[39m\u001B[38;5;124mnothing to repeat\u001B[39m\u001B[38;5;124m\"\u001B[39m,\n\u001B[0;32m    669\u001B[0m                        source\u001B[38;5;241m.\u001B[39mtell() \u001B[38;5;241m-\u001B[39m here \u001B[38;5;241m+\u001B[39m \u001B[38;5;28mlen\u001B[39m(this))\n\u001B[0;32m    670\u001B[0m \u001B[38;5;28;01mif\u001B[39;00m item[\u001B[38;5;241m0\u001B[39m][\u001B[38;5;241m0\u001B[39m] \u001B[38;5;129;01min\u001B[39;00m _REPEATCODES:\n\u001B[0;32m    671\u001B[0m     \u001B[38;5;28;01mraise\u001B[39;00m source\u001B[38;5;241m.\u001B[39merror(\u001B[38;5;124m\"\u001B[39m\u001B[38;5;124mmultiple repeat\u001B[39m\u001B[38;5;124m\"\u001B[39m,\n\u001B[0;32m    672\u001B[0m                        source\u001B[38;5;241m.\u001B[39mtell() \u001B[38;5;241m-\u001B[39m here \u001B[38;5;241m+\u001B[39m \u001B[38;5;28mlen\u001B[39m(this))\n",
      "\u001B[1;31merror\u001B[0m: nothing to repeat at position 0"
     ]
    }
   ],
   "source": [
    "import re\n",
    "txt = \"The rain in Spain\"\n",
    "x = re.search(\".Spain$\",txt)\n",
    "print(\"Yes\") if x else print(\"NO\")"
   ],
   "metadata": {
    "collapsed": false,
    "ExecuteTime": {
     "end_time": "2023-08-15T03:33:42.270982400Z",
     "start_time": "2023-08-15T03:33:41.709330600Z"
    }
   }
  },
  {
   "cell_type": "code",
   "execution_count": 37,
   "outputs": [
    {
     "name": "stdout",
     "output_type": "stream",
     "text": [
      "['ain', 'ain']\n"
     ]
    }
   ],
   "source": [
    "import re\n",
    "\n",
    "txt = \"The rain in Spain\"\n",
    "x = re.findall(\"ain\", txt)\n",
    "print(x)"
   ],
   "metadata": {
    "collapsed": false,
    "ExecuteTime": {
     "end_time": "2023-08-15T03:32:15.261130Z",
     "start_time": "2023-08-15T03:32:15.181955800Z"
    }
   }
  },
  {
   "cell_type": "code",
   "execution_count": 38,
   "outputs": [
    {
     "name": "stdout",
     "output_type": "stream",
     "text": [
      "[]\n"
     ]
    }
   ],
   "source": [
    "import re\n",
    "\n",
    "txt = \"The rain in Spain\"\n",
    "x = re.findall(\"Portugal\", txt)\n",
    "print(x)"
   ],
   "metadata": {
    "collapsed": false,
    "ExecuteTime": {
     "end_time": "2023-08-15T03:32:30.465450700Z",
     "start_time": "2023-08-15T03:32:30.314853900Z"
    }
   }
  },
  {
   "cell_type": "code",
   "execution_count": 63,
   "outputs": [
    {
     "name": "stdout",
     "output_type": "stream",
     "text": [
      "['rain']\n"
     ]
    }
   ],
   "source": [
    "import re\n",
    "\n",
    "txt = \"The rain in Spain\"\n",
    "x = re.findall(\"r.*n\",txt)\n",
    "print(x)"
   ],
   "metadata": {
    "collapsed": false,
    "ExecuteTime": {
     "end_time": "2023-08-15T03:47:14.447074500Z",
     "start_time": "2023-08-15T03:47:14.281377800Z"
    }
   }
  },
  {
   "cell_type": "code",
   "execution_count": 60,
   "outputs": [
    {
     "name": "stdout",
     "output_type": "stream",
     "text": [
      "3\n"
     ]
    }
   ],
   "source": [
    "import re\n",
    "txt = \"The rain in Spain\"\n",
    "x = re.search(\"\\s\",txt)\n",
    "print(x.start())"
   ],
   "metadata": {
    "collapsed": false,
    "ExecuteTime": {
     "end_time": "2023-08-15T03:44:54.601724200Z",
     "start_time": "2023-08-15T03:44:54.418896900Z"
    }
   }
  },
  {
   "cell_type": "code",
   "execution_count": 65,
   "outputs": [
    {
     "name": "stdout",
     "output_type": "stream",
     "text": [
      "['The', 'rain in Spain']\n"
     ]
    }
   ],
   "source": [
    "import re\n",
    "txt = \"The rain in Spain\"\n",
    "x = re.split(\"\\s\",txt)\n",
    "print(x)"
   ],
   "metadata": {
    "collapsed": false,
    "ExecuteTime": {
     "end_time": "2023-08-15T03:52:38.808182700Z",
     "start_time": "2023-08-15T03:52:38.675525100Z"
    }
   }
  },
  {
   "cell_type": "code",
   "execution_count": 67,
   "outputs": [
    {
     "data": {
      "text/plain": "['The', 'rain', 'in Spain']"
     },
     "execution_count": 67,
     "metadata": {},
     "output_type": "execute_result"
    }
   ],
   "source": [
    "import re\n",
    "txt = \"The rain in Spain\"\n",
    "x = re.split(\"\\s\",txt,2)\n",
    "x"
   ],
   "metadata": {
    "collapsed": false,
    "ExecuteTime": {
     "end_time": "2023-08-15T03:53:18.596308Z",
     "start_time": "2023-08-15T03:53:18.354729200Z"
    }
   }
  },
  {
   "cell_type": "code",
   "execution_count": 73,
   "outputs": [
    {
     "name": "stdout",
     "output_type": "stream",
     "text": [
      "YES\n"
     ]
    }
   ],
   "source": [
    "import re\n",
    "txt = \"The rain in Spain\"\n",
    "pat = \"Spain\"\n",
    "x = re.search(pat,txt)\n",
    "print(\"YES\") if x else print(\"NO\")"
   ],
   "metadata": {
    "collapsed": false,
    "ExecuteTime": {
     "end_time": "2023-08-15T03:55:42.526420300Z",
     "start_time": "2023-08-15T03:55:42.374606100Z"
    }
   }
  },
  {
   "cell_type": "code",
   "execution_count": 74,
   "outputs": [
    {
     "name": "stdout",
     "output_type": "stream",
     "text": [
      "The9rain9in9Spain\n"
     ]
    }
   ],
   "source": [
    "import re\n",
    "txt = \"The rain in Spain\"\n",
    "x = re.sub(\"\\s\",\"9\",txt)\n",
    "print(x)"
   ],
   "metadata": {
    "collapsed": false,
    "ExecuteTime": {
     "end_time": "2023-08-15T03:56:17.247401400Z",
     "start_time": "2023-08-15T03:56:17.057093100Z"
    }
   }
  },
  {
   "cell_type": "markdown",
   "source": [
    "# EXception"
   ],
   "metadata": {
    "collapsed": false
   }
  },
  {
   "cell_type": "code",
   "execution_count": 76,
   "outputs": [
    {
     "name": "stdout",
     "output_type": "stream",
     "text": [
      "X not present\n"
     ]
    }
   ],
   "source": [
    "try:\n",
    "    print(z)\n",
    "except:\n",
    "    print(\"X not present\")"
   ],
   "metadata": {
    "collapsed": false,
    "ExecuteTime": {
     "end_time": "2023-08-15T04:04:12.179300400Z",
     "start_time": "2023-08-15T04:04:12.094430700Z"
    }
   }
  },
  {
   "cell_type": "code",
   "execution_count": 78,
   "outputs": [
    {
     "name": "stdout",
     "output_type": "stream",
     "text": [
      "HEllo\n",
      "something Wrong\n"
     ]
    }
   ],
   "source": [
    "try:\n",
    "    print(\"HEllo\")\n",
    "except:\n",
    "    print(\"Z not present\")\n",
    "else:\n",
    "    print(\"something Wrong\")"
   ],
   "metadata": {
    "collapsed": false,
    "ExecuteTime": {
     "end_time": "2023-08-15T04:05:43.929944600Z",
     "start_time": "2023-08-15T04:05:43.848265900Z"
    }
   }
  },
  {
   "cell_type": "code",
   "execution_count": 79,
   "outputs": [
    {
     "name": "stdout",
     "output_type": "stream",
     "text": [
      "HELLO\n",
      "Finally block\n"
     ]
    }
   ],
   "source": [
    "try:\n",
    "    print(\"HELLO\")\n",
    "except:\n",
    "    print(\"Wrong\")\n",
    "finally:\n",
    "    print(\"Finally block\")"
   ],
   "metadata": {
    "collapsed": false,
    "ExecuteTime": {
     "end_time": "2023-08-15T04:07:24.606562700Z",
     "start_time": "2023-08-15T04:07:24.452995600Z"
    }
   }
  },
  {
   "cell_type": "code",
   "execution_count": 80,
   "outputs": [
    {
     "name": "stdout",
     "output_type": "stream",
     "text": [
      "Not to write\n"
     ]
    }
   ],
   "source": [
    "try:\n",
    "    f = open('demo.txt')\n",
    "    try:\n",
    "        f.write(\"Tushar\")\n",
    "    except:\n",
    "        print(\"Not to write\")\n",
    "    finally:\n",
    "        f.close()\n",
    "except:\n",
    "    print(\"Not open file\")"
   ],
   "metadata": {
    "collapsed": false,
    "ExecuteTime": {
     "end_time": "2023-08-15T04:09:33.546329300Z",
     "start_time": "2023-08-15T04:09:33.307171600Z"
    }
   }
  },
  {
   "cell_type": "code",
   "execution_count": 83,
   "outputs": [
    {
     "ename": "Exception",
     "evalue": "Negative not allowed",
     "output_type": "error",
     "traceback": [
      "\u001B[1;31m---------------------------------------------------------------------------\u001B[0m",
      "\u001B[1;31mException\u001B[0m                                 Traceback (most recent call last)",
      "Cell \u001B[1;32mIn[83], line 3\u001B[0m\n\u001B[0;32m      1\u001B[0m x \u001B[38;5;241m=\u001B[39m \u001B[38;5;241m-\u001B[39m\u001B[38;5;241m1\u001B[39m\n\u001B[0;32m      2\u001B[0m \u001B[38;5;28;01mif\u001B[39;00m x \u001B[38;5;241m<\u001B[39m \u001B[38;5;241m0\u001B[39m:\n\u001B[1;32m----> 3\u001B[0m     \u001B[38;5;28;01mraise\u001B[39;00m \u001B[38;5;167;01mException\u001B[39;00m(\u001B[38;5;124m\"\u001B[39m\u001B[38;5;124mNegative not allowed\u001B[39m\u001B[38;5;124m\"\u001B[39m)\n",
      "\u001B[1;31mException\u001B[0m: Negative not allowed"
     ]
    }
   ],
   "source": [
    "x = -1\n",
    "if x < 0:\n",
    "    raise Exception(\"Negative not allowed\")"
   ],
   "metadata": {
    "collapsed": false,
    "ExecuteTime": {
     "end_time": "2023-08-15T04:11:31.772323200Z",
     "start_time": "2023-08-15T04:11:31.565137800Z"
    }
   }
  },
  {
   "cell_type": "code",
   "execution_count": 85,
   "outputs": [
    {
     "ename": "Exception",
     "evalue": "NOt int type x expection",
     "output_type": "error",
     "traceback": [
      "\u001B[1;31m---------------------------------------------------------------------------\u001B[0m",
      "\u001B[1;31mException\u001B[0m                                 Traceback (most recent call last)",
      "Cell \u001B[1;32mIn[85], line 3\u001B[0m\n\u001B[0;32m      1\u001B[0m x \u001B[38;5;241m=\u001B[39m \u001B[38;5;124m\"\u001B[39m\u001B[38;5;124mhello\u001B[39m\u001B[38;5;124m\"\u001B[39m\n\u001B[0;32m      2\u001B[0m \u001B[38;5;28;01mif\u001B[39;00m \u001B[38;5;28mtype\u001B[39m(x) \u001B[38;5;129;01mis\u001B[39;00m \u001B[38;5;129;01mnot\u001B[39;00m \u001B[38;5;28mint\u001B[39m:\n\u001B[1;32m----> 3\u001B[0m     \u001B[38;5;28;01mraise\u001B[39;00m  \u001B[38;5;167;01mException\u001B[39;00m(\u001B[38;5;124m\"\u001B[39m\u001B[38;5;124mNOt int type x expection\u001B[39m\u001B[38;5;124m\"\u001B[39m)\n",
      "\u001B[1;31mException\u001B[0m: NOt int type x expection"
     ]
    }
   ],
   "source": [
    "x = \"hello\"\n",
    "if type(x) is not int:\n",
    "    raise  Exception(\"NOt int type x expection\")"
   ],
   "metadata": {
    "collapsed": false,
    "ExecuteTime": {
     "end_time": "2023-08-15T04:12:41.020668800Z",
     "start_time": "2023-08-15T04:12:40.885032200Z"
    }
   }
  },
  {
   "cell_type": "code",
   "execution_count": 3,
   "outputs": [
    {
     "name": "stdout",
     "output_type": "stream",
     "text": [
      "The name: Tushar\n"
     ]
    }
   ],
   "source": [
    "username = input(\"Enter the name\")\n",
    "print(\"The name: \"+username)"
   ],
   "metadata": {
    "collapsed": false,
    "ExecuteTime": {
     "end_time": "2023-08-15T10:44:13.244499Z",
     "start_time": "2023-08-15T10:44:07.744179Z"
    }
   }
  },
  {
   "cell_type": "code",
   "execution_count": 4,
   "outputs": [
    {
     "name": "stdout",
     "output_type": "stream",
     "text": [
      "The price 34 okk\n"
     ]
    }
   ],
   "source": [
    "price = 34\n",
    "txt = \"The price {} okk\"\n",
    "print(txt.format(price))"
   ],
   "metadata": {
    "collapsed": false,
    "ExecuteTime": {
     "end_time": "2023-08-15T11:03:39.173822900Z",
     "start_time": "2023-08-15T11:03:39.056153600Z"
    }
   }
  },
  {
   "cell_type": "code",
   "execution_count": 5,
   "outputs": [
    {
     "name": "stdout",
     "output_type": "stream",
     "text": [
      "The price 34.00 okk\n"
     ]
    }
   ],
   "source": [
    "price = 34\n",
    "txt = \"The price {:.2f} okk\"\n",
    "print(txt.format(price))"
   ],
   "metadata": {
    "collapsed": false,
    "ExecuteTime": {
     "end_time": "2023-08-15T11:04:04.690916500Z",
     "start_time": "2023-08-15T11:04:04.608608200Z"
    }
   }
  },
  {
   "cell_type": "code",
   "execution_count": 7,
   "outputs": [
    {
     "name": "stdout",
     "output_type": "stream",
     "text": [
      "2  1  2\n"
     ]
    }
   ],
   "source": [
    "x  = 1\n",
    "y = 2\n",
    "txt = \"{1}  {0}  {1}\"\n",
    "print(txt.format(x,y))"
   ],
   "metadata": {
    "collapsed": false,
    "ExecuteTime": {
     "end_time": "2023-08-15T11:05:30.826808500Z",
     "start_time": "2023-08-15T11:05:30.744437900Z"
    }
   }
  },
  {
   "cell_type": "code",
   "execution_count": null,
   "outputs": [],
   "source": [],
   "metadata": {
    "collapsed": false
   }
  }
 ],
 "metadata": {
  "kernelspec": {
   "display_name": "Python 3",
   "language": "python",
   "name": "python3"
  },
  "language_info": {
   "codemirror_mode": {
    "name": "ipython",
    "version": 2
   },
   "file_extension": ".py",
   "mimetype": "text/x-python",
   "name": "python",
   "nbconvert_exporter": "python",
   "pygments_lexer": "ipython2",
   "version": "2.7.6"
  }
 },
 "nbformat": 4,
 "nbformat_minor": 0
}
